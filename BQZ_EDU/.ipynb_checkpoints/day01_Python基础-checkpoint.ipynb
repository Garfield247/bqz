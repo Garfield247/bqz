{
 "cells": [
  {
   "cell_type": "markdown",
   "metadata": {},
   "source": [
    "# Day01 Python基础"
   ]
  },
  {
   "cell_type": "markdown",
   "metadata": {},
   "source": [
    "`Author`：`吕钢`\n",
    "\n",
    "`Email` ：` lvgang@shtdtech.com `\n",
    "\n",
    "`Company` ：`北京四合天地科技有限公司`\n",
    "\n",
    "`Address` ：`北京市海淀区学院路51号首享科技大厦12层1203-1207室`"
   ]
  },
  {
   "cell_type": "markdown",
   "metadata": {},
   "source": [
    "## Python简介"
   ]
  },
  {
   "cell_type": "markdown",
   "metadata": {},
   "source": [
    "![Python](./images/python.jpg '图片title')"
   ]
  },
  {
   "cell_type": "markdown",
   "metadata": {},
   "source": [
    "- ### 什么是Python"
   ]
  },
  {
   "cell_type": "markdown",
   "metadata": {},
   "source": [
    "Python是一种计算机程序设计语言。是一种动态的、面向对象的脚本语言，最初被设计用于编写自动化脚本(shell)，随着版本的不断更新和语言新功能的添加，越来越多被用于独立的、大型项目的开发。"
   ]
  },
  {
   "cell_type": "markdown",
   "metadata": {},
   "source": [
    " - ### Python来源"
   ]
  },
  {
   "cell_type": "markdown",
   "metadata": {},
   "source": [
    "Python的创始人为Guido van Rossum。1989年圣诞节期间，在阿姆斯特丹，Guido为了打发圣诞节的无趣，决心开发一个新的脚本解释程序，作为ABC 语言的一种继承。之所以选中Python（大蟒蛇的意思）作为该编程语言的名字，是因为他是一个叫Monty Python的喜剧团体的爱好者。"
   ]
  },
  {
   "cell_type": "markdown",
   "metadata": {},
   "source": [
    "- ### 优点"
   ]
  },
  {
   "cell_type": "markdown",
   "metadata": {},
   "source": [
    "    1. 简单: Python的语法非常优雅，甚至没有像其他语言的大括号，分号等特殊符号，代表了一种极简主义的设计思想。阅读Python程序像是在读英语。\n",
    "    2. 易学: Python入手非常快，学习曲线非常低，可以直接通过命令行交互环境来学习Python编程。\n",
    "    3. 免费/开源 : Python的所有内容都是免费开源的，这意味着你不需要花一分钱就可以免费使用Python，并且你可以自由地发布这个软件的拷贝、阅读它的源代码、对它做改动、把它的一部分用于新的自由软件中。\n",
    "    4. 自动内存管理: 如果你了解C语言、C++语言你就会知道内存管理给你带来很大麻烦，程序非常容易出现内存方面的漏洞。但是在Python中内存管理是自动完成的，你可以专注于程序本身。\n",
    "    5. 可以移植: 由于Python是开源的，它已经被移植到了大多数平台下面，例如：Windows、MacOS、Linux、Andorid、iOS等等。\n",
    "    6. 解释性: 大多数计算机编程语言都是编译型的，在运行之前需要将源码编译为操作系统可以执行的二进制格式(0110格式的)，这样大型项目编译过程非常消耗时间，而Python语言写的程序不需要编译成二进制代码。你可以直接从源代码运行程序。在计算机内部，Python解释器把源代码转换成称为字节码的中间形式，然后再把它翻译成计算机使用的机器语言并运行。\n",
    "    7. 面向对象: Python既支持面向过程，又支持面向对象，这样编程就更加灵活。\n",
    "    8. 可扩展: Python除了使用Python本身编写外，还可以混合使用像C语言、Java语言等编写。\n",
    "    9. 丰富的第三方库: Python具有本身有丰富而且强大的库，而且由于Python的开源特性，第三方库也非常多，例如：在web开发、爬虫、科学计算等等"
   ]
  },
  {
   "cell_type": "markdown",
   "metadata": {},
   "source": [
    "- ### 缺点"
   ]
  },
  {
   "cell_type": "markdown",
   "metadata": {},
   "source": [
    "    1. 速度慢 :由于，Python是解释型语言，所有它的速度会比，C、C++慢一些，但是不影响使用。由于，现在的硬件配置都非常高，基本上没有影响，除非是一些实时性比较强的程序可能会受到一些影响，但是也有解决办法，可以嵌入C程序。\n",
    "    2. 代码不能加密：如果要发布你的Python程序，实际上就是发布源代码，这一点跟C语言不同，C语言不用发布源代码，只需要把编译后的机器码(exe、dll)发布出去。要从机器码反推出C代码是不可能的，所以，凡是编译型的语言，都没有这个问题，而解释型的语言，则必须把源码发布出去。\n",
    "    2. 强制缩进: 如果你有其他语言的编程经验，例如：C语言或者Java语言，那么Python的强制缩进一开始会让你很不习惯。但是如果你习惯了Python的缩进语法，你会觉得它非常优雅。\n",
    "    3. 单行语句: 由于Python可以在尾部不写分号，所以一行只能有一条语句，这可能也算是一个不足吧，不过这真的微不足道。"
   ]
  },
  {
   "cell_type": "markdown",
   "metadata": {},
   "source": [
    "## 安装Python"
   ]
  },
  {
   "cell_type": "markdown",
   "metadata": {},
   "source": [
    "- Windows安装"
   ]
  },
  {
   "cell_type": "markdown",
   "metadata": {},
   "source": [
    "    1. 下载"
   ]
  },
  {
   "cell_type": "markdown",
   "metadata": {},
   "source": [
    "        python官网：https://www.python.org/"
   ]
  },
  {
   "cell_type": "markdown",
   "metadata": {},
   "source": [
    "        python3.6.4下载网址： https://www.python.org/ftp/python/3.6.4/python-3.6.4-amd64.exe"
   ]
  },
  {
   "cell_type": "markdown",
   "metadata": {},
   "source": [
    "    2. 安装"
   ]
  },
  {
   "cell_type": "markdown",
   "metadata": {},
   "source": [
    "        双击python-3.6.4-amd64.exe启动安装程序，勾选 `Add Python 3.6 to PATH` 点击 `Install Now` 进行安装"
   ]
  },
  {
   "cell_type": "markdown",
   "metadata": {},
   "source": [
    "![Python](./images/pi1.png '图片title')"
   ]
  },
  {
   "cell_type": "markdown",
   "metadata": {},
   "source": [
    "        安装过程"
   ]
  },
  {
   "cell_type": "markdown",
   "metadata": {},
   "source": [
    "![Python](./images/pi2.png '图片title')"
   ]
  },
  {
   "cell_type": "markdown",
   "metadata": {},
   "source": [
    "        安装完成"
   ]
  },
  {
   "cell_type": "markdown",
   "metadata": {},
   "source": [
    "![Python](./images/pi3.png '图片title')"
   ]
  },
  {
   "cell_type": "markdown",
   "metadata": {},
   "source": [
    "    3. 检验安装是否成功"
   ]
  },
  {
   "cell_type": "markdown",
   "metadata": {},
   "source": [
    "        WIN+R打开运行窗口"
   ]
  },
  {
   "cell_type": "markdown",
   "metadata": {},
   "source": [
    "![Python](./images/pi4.png '图片title')"
   ]
  },
  {
   "cell_type": "markdown",
   "metadata": {},
   "source": [
    "        输入Python -V ,如果正确输出Python版本则代表安装成功"
   ]
  },
  {
   "cell_type": "markdown",
   "metadata": {},
   "source": [
    "![Python](./images/pi5.png '图片title')"
   ]
  },
  {
   "cell_type": "markdown",
   "metadata": {},
   "source": [
    "- Linux安装(Centos7)"
   ]
  },
  {
   "cell_type": "markdown",
   "metadata": {},
   "source": [
    "    1. 安装依赖"
   ]
  },
  {
   "cell_type": "markdown",
   "metadata": {},
   "source": [
    "        yum -y install -y openssl-devel bzip2-devel expat-devel gdbm-devel readline-devel sqlite-devel \n",
    "        yum -y install -y wget\n",
    "        yum -y install -y gcc"
   ]
  },
  {
   "cell_type": "markdown",
   "metadata": {},
   "source": [
    "    2. 下载python3.6.4"
   ]
  },
  {
   "cell_type": "markdown",
   "metadata": {},
   "source": [
    "        wget https://www.python.org/ftp/python/3.6.4/Python-3.6.4.tgz"
   ]
  },
  {
   "cell_type": "markdown",
   "metadata": {},
   "source": [
    "    3. 解压tgz包到/usr/local下面"
   ]
  },
  {
   "cell_type": "markdown",
   "metadata": {},
   "source": [
    "        tar -zxvf Python-3.6.4.tgz -C /usr/local"
   ]
  },
  {
   "cell_type": "markdown",
   "metadata": {},
   "source": [
    "    4. 进入python目录"
   ]
  },
  {
   "cell_type": "markdown",
   "metadata": {},
   "source": [
    "        cd /usr/local/Python-3.6.4/"
   ]
  },
  {
   "cell_type": "markdown",
   "metadata": {},
   "source": [
    "    5. 配置"
   ]
  },
  {
   "cell_type": "markdown",
   "metadata": {},
   "source": [
    "        ./configure"
   ]
  },
  {
   "cell_type": "markdown",
   "metadata": {},
   "source": [
    "    6. 编译，安装"
   ]
  },
  {
   "cell_type": "markdown",
   "metadata": {},
   "source": [
    "        make && make install"
   ]
  },
  {
   "cell_type": "markdown",
   "metadata": {},
   "source": [
    "    7. 创建新的软链接到最新的python"
   ]
  },
  {
   "cell_type": "markdown",
   "metadata": {},
   "source": [
    "        ln -s /usr/local/bin/python3.6 /usr/bin/python3"
   ]
  },
  {
   "cell_type": "markdown",
   "metadata": {},
   "source": [
    "    8. 检验"
   ]
  },
  {
   "cell_type": "markdown",
   "metadata": {},
   "source": [
    "        python3 -V"
   ]
  },
  {
   "cell_type": "markdown",
   "metadata": {},
   "source": [
    "## 第一个Python程序"
   ]
  },
  {
   "cell_type": "code",
   "execution_count": 8,
   "metadata": {},
   "outputs": [
    {
     "name": "stdout",
     "output_type": "stream",
     "text": [
      "hello word!\n"
     ]
    }
   ],
   "source": [
    "print('hello word!')"
   ]
  },
  {
   "cell_type": "markdown",
   "metadata": {},
   "source": [
    "## 数据类型和变量"
   ]
  },
  {
   "cell_type": "markdown",
   "metadata": {},
   "source": [
    "   ### 数据类型"
   ]
  },
  {
   "cell_type": "markdown",
   "metadata": {},
   "source": [
    "   -  Int"
   ]
  },
  {
   "cell_type": "markdown",
   "metadata": {},
   "source": [
    "   - Float"
   ]
  },
  {
   "cell_type": "markdown",
   "metadata": {},
   "source": [
    "   - String"
   ]
  },
  {
   "cell_type": "markdown",
   "metadata": {},
   "source": [
    "   - List"
   ]
  },
  {
   "cell_type": "markdown",
   "metadata": {},
   "source": [
    "   - Dcit"
   ]
  },
  {
   "cell_type": "markdown",
   "metadata": {},
   "source": [
    "   - Set"
   ]
  },
  {
   "cell_type": "markdown",
   "metadata": {},
   "source": [
    "  - Tuple"
   ]
  },
  {
   "cell_type": "markdown",
   "metadata": {},
   "source": [
    "### 变量"
   ]
  },
  {
   "cell_type": "markdown",
   "metadata": {},
   "source": [
    "#### 变量的定义"
   ]
  },
  {
   "cell_type": "markdown",
   "metadata": {},
   "source": [
    "    变量名 = 值"
   ]
  },
  {
   "cell_type": "markdown",
   "metadata": {},
   "source": [
    "#### 变量的使用"
   ]
  },
  {
   "cell_type": "markdown",
   "metadata": {},
   "source": [
    "    "
   ]
  },
  {
   "cell_type": "markdown",
   "metadata": {},
   "source": [
    "#### 变量的删除"
   ]
  },
  {
   "cell_type": "markdown",
   "metadata": {},
   "source": [
    "del 变量名"
   ]
  },
  {
   "cell_type": "markdown",
   "metadata": {},
   "source": [
    "## 字符串"
   ]
  },
  {
   "cell_type": "markdown",
   "metadata": {},
   "source": [
    "定义一个字符串"
   ]
  },
  {
   "cell_type": "code",
   "execution_count": null,
   "metadata": {},
   "outputs": [],
   "source": [
    "str1 = 'bei jing qing nian zheng zhi xue yuan'"
   ]
  },
  {
   "cell_type": "markdown",
   "metadata": {},
   "source": [
    "全部转换为大写"
   ]
  },
  {
   "cell_type": "markdown",
   "metadata": {},
   "source": [
    "str2 = str1.upper()\n",
    "print(str2)"
   ]
  },
  {
   "cell_type": "markdown",
   "metadata": {},
   "source": [
    "全部转换为小写"
   ]
  },
  {
   "cell_type": "markdown",
   "metadata": {},
   "source": [
    "str4 = str3.lower()\n",
    "print(str4)"
   ]
  },
  {
   "cell_type": "markdown",
   "metadata": {},
   "source": [
    "大小写切换"
   ]
  },
  {
   "cell_type": "markdown",
   "metadata": {},
   "source": [
    "str6 =str5.swapcase()\n",
    "print(str6)\n"
   ]
  },
  {
   "cell_type": "markdown",
   "metadata": {},
   "source": [
    "首字母大写"
   ]
  },
  {
   "cell_type": "markdown",
   "metadata": {},
   "source": [
    "str8 = str7.title()\n",
    "print(str8)"
   ]
  },
  {
   "cell_type": "markdown",
   "metadata": {},
   "source": [
    "字符串的长度"
   ]
  },
  {
   "cell_type": "markdown",
   "metadata": {},
   "source": [
    "len(str)"
   ]
  },
  {
   "cell_type": "markdown",
   "metadata": {},
   "source": [
    "字符串的查找"
   ]
  },
  {
   "cell_type": "markdown",
   "metadata": {},
   "source": [
    "从字符串的右侧开始查找, 索引任然是从左侧的0开始计数\n",
    "find方法查找时,如果未找到对应的字符串,则返回 -1\n",
    "确定查找范围\n",
    "string.find(sub[,start[,stop]])  start, stop 表示查找的范围"
   ]
  },
  {
   "cell_type": "markdown",
   "metadata": {},
   "source": [
    "str.find()"
   ]
  },
  {
   "cell_type": "markdown",
   "metadata": {},
   "source": [
    "str.rfind()"
   ]
  },
  {
   "cell_type": "markdown",
   "metadata": {},
   "source": [
    "字符串的截取"
   ]
  },
  {
   "cell_type": "markdown",
   "metadata": {},
   "source": [
    "去掉字符串左侧的字符,默认是空格"
   ]
  },
  {
   "cell_type": "markdown",
   "metadata": {},
   "source": [
    "str1 = \"\"\n",
    "\n",
    "str2 = str1.lstrip(\"*\")\n",
    "print(str2)"
   ]
  },
  {
   "cell_type": "markdown",
   "metadata": {},
   "source": [
    "去掉字符串右边缘的*,默认是空格"
   ]
  },
  {
   "cell_type": "markdown",
   "metadata": {},
   "source": [
    "\n",
    "str3 = str1.rstrip(\"*\")\n",
    "print(str3)"
   ]
  },
  {
   "cell_type": "markdown",
   "metadata": {},
   "source": [
    "去掉字符串左边缘和右边的*,默认是空格"
   ]
  },
  {
   "cell_type": "markdown",
   "metadata": {},
   "source": [
    "\n",
    "str4 =str1.strip(\"*\")\n",
    "print(str4)"
   ]
  },
  {
   "cell_type": "markdown",
   "metadata": {},
   "source": [
    "字符串的拆分"
   ]
  },
  {
   "cell_type": "markdown",
   "metadata": {},
   "source": [
    "将字符串按一定的符号,进行拆分,将拆分后的字符用列表存起来,默认用空格分隔"
   ]
  },
  {
   "cell_type": "markdown",
   "metadata": {},
   "source": [
    "list1 = str1.split()"
   ]
  },
  {
   "cell_type": "markdown",
   "metadata": {},
   "source": [
    "字符串的拼接"
   ]
  },
  {
   "cell_type": "markdown",
   "metadata": {},
   "source": [
    "用特殊字符将字符串拼接起来"
   ]
  },
  {
   "cell_type": "markdown",
   "metadata": {},
   "source": [
    "''.join()"
   ]
  },
  {
   "cell_type": "markdown",
   "metadata": {},
   "source": [
    "字符串的替换"
   ]
  },
  {
   "cell_type": "markdown",
   "metadata": {},
   "source": [
    "replace()"
   ]
  },
  {
   "cell_type": "markdown",
   "metadata": {},
   "source": [
    "字符串的启示判断"
   ]
  },
  {
   "cell_type": "markdown",
   "metadata": {},
   "source": [
    "str.startswith()"
   ]
  },
  {
   "cell_type": "markdown",
   "metadata": {},
   "source": [
    "ste.endswith()"
   ]
  },
  {
   "cell_type": "markdown",
   "metadata": {},
   "source": [
    "## 使用List和Tuple"
   ]
  },
  {
   "cell_type": "markdown",
   "metadata": {},
   "source": [
    "### List"
   ]
  },
  {
   "cell_type": "code",
   "execution_count": null,
   "metadata": {},
   "outputs": [],
   "source": [
    "定义"
   ]
  },
  {
   "cell_type": "markdown",
   "metadata": {},
   "source": [
    "list = [1,2,3,4]"
   ]
  },
  {
   "cell_type": "code",
   "execution_count": null,
   "metadata": {},
   "outputs": [],
   "source": [
    "可重复元素的有序的集合"
   ]
  },
  {
   "cell_type": "markdown",
   "metadata": {},
   "source": [
    "可以存放多个数据,每个数据用 , 号隔开 ,元素可以重复"
   ]
  },
  {
   "cell_type": "markdown",
   "metadata": {},
   "source": [
    "增"
   ]
  },
  {
   "cell_type": "code",
   "execution_count": null,
   "metadata": {},
   "outputs": [],
   "source": [
    "# 添加一个列表\n",
    "list2 = list1 + [1,2] "
   ]
  },
  {
   "cell_type": "code",
   "execution_count": null,
   "metadata": {},
   "outputs": [],
   "source": [
    "# 添加一个值 \n",
    "list.append()"
   ]
  },
  {
   "cell_type": "code",
   "execution_count": null,
   "metadata": {},
   "outputs": [],
   "source": [
    "# 添加一个列表\n",
    "list1.extend([1,2]) "
   ]
  },
  {
   "cell_type": "code",
   "execution_count": null,
   "metadata": {},
   "outputs": [],
   "source": [
    "# 某个位置插入一个元素\n",
    "list1.insert(index,value)"
   ]
  },
  {
   "cell_type": "markdown",
   "metadata": {},
   "source": [
    "删"
   ]
  },
  {
   "cell_type": "markdown",
   "metadata": {},
   "source": [
    "删除一个元素list.pop(index) "
   ]
  },
  {
   "cell_type": "markdown",
   "metadata": {},
   "source": [
    "移除列表中第一个匹配的m元素remove(m)"
   ]
  },
  {
   "cell_type": "markdown",
   "metadata": {},
   "source": [
    "清空列表list.clear()"
   ]
  },
  {
   "cell_type": "markdown",
   "metadata": {},
   "source": []
  },
  {
   "cell_type": "markdown",
   "metadata": {},
   "source": [
    "改"
   ]
  },
  {
   "cell_type": "markdown",
   "metadata": {},
   "source": [
    "list[index] = value"
   ]
  },
  {
   "cell_type": "markdown",
   "metadata": {},
   "source": [
    "查"
   ]
  },
  {
   "cell_type": "markdown",
   "metadata": {},
   "source": [
    "list[index,index]可以同时检索多个值"
   ]
  },
  {
   "cell_type": "markdown",
   "metadata": {},
   "source": [
    "遍历"
   ]
  },
  {
   "cell_type": "code",
   "execution_count": null,
   "metadata": {},
   "outputs": [],
   "source": [
    "for value in list:"
   ]
  },
  {
   "cell_type": "markdown",
   "metadata": {},
   "source": []
  },
  {
   "cell_type": "markdown",
   "metadata": {},
   "source": [
    "### Tuple"
   ]
  },
  {
   "cell_type": "markdown",
   "metadata": {},
   "source": []
  },
  {
   "cell_type": "markdown",
   "metadata": {},
   "source": [
    "有序的集合"
   ]
  },
  {
   "cell_type": "markdown",
   "metadata": {},
   "source": [
    "1.跟list列表相似         \n",
    "2.不可进行修改         \n",
    "3.元组以 (  )包裹以,分割                              \n",
    "4.当只有一个元素时也需要加逗号"
   ]
  },
  {
   "cell_type": "markdown",
   "metadata": {},
   "source": [
    "tuple(value1,value2)"
   ]
  },
  {
   "cell_type": "markdown",
   "metadata": {},
   "source": [
    "增"
   ]
  },
  {
   "cell_type": "markdown",
   "metadata": {},
   "source": [
    "不可以"
   ]
  },
  {
   "cell_type": "markdown",
   "metadata": {},
   "source": [
    "删"
   ]
  },
  {
   "cell_type": "markdown",
   "metadata": {},
   "source": [
    "不可以"
   ]
  },
  {
   "cell_type": "markdown",
   "metadata": {},
   "source": [
    "改"
   ]
  },
  {
   "cell_type": "markdown",
   "metadata": {},
   "source": [
    "元组的元素不能修改, 但元素本身是可变类型,则可以修改元素里面的值"
   ]
  },
  {
   "cell_type": "markdown",
   "metadata": {},
   "source": []
  },
  {
   "cell_type": "markdown",
   "metadata": {},
   "source": [
    "查"
   ]
  },
  {
   "cell_type": "markdown",
   "metadata": {},
   "source": [
    "tuple[index]"
   ]
  },
  {
   "cell_type": "markdown",
   "metadata": {},
   "source": [
    "遍历"
   ]
  },
  {
   "cell_type": "markdown",
   "metadata": {},
   "source": []
  },
  {
   "cell_type": "markdown",
   "metadata": {},
   "source": [
    "## 使用Dict和Set"
   ]
  },
  {
   "cell_type": "markdown",
   "metadata": {},
   "source": [
    "### Dict"
   ]
  },
  {
   "cell_type": "code",
   "execution_count": null,
   "metadata": {},
   "outputs": [],
   "source": [
    "是以key和value来储存值,是可变的数据类型.字典是无序的"
   ]
  },
  {
   "cell_type": "markdown",
   "metadata": {},
   "source": [
    "1.key是唯一的                  \n",
    "2.key需要不可变类型的数据                                     \n",
    "3.数字,字符串等不可变类型可以作为key,列表和字典是可变数据类型不能作为key"
   ]
  },
  {
   "cell_type": "code",
   "execution_count": null,
   "metadata": {},
   "outputs": [],
   "source": [
    "dict{key1:value,key2:value}"
   ]
  },
  {
   "cell_type": "markdown",
   "metadata": {},
   "source": [
    "增"
   ]
  },
  {
   "cell_type": "markdown",
   "metadata": {},
   "source": [
    "dict[key]=value"
   ]
  },
  {
   "cell_type": "markdown",
   "metadata": {},
   "source": [
    "删"
   ]
  },
  {
   "cell_type": "markdown",
   "metadata": {},
   "source": [
    "dict.pop(key)"
   ]
  },
  {
   "cell_type": "markdown",
   "metadata": {},
   "source": [
    "改"
   ]
  },
  {
   "cell_type": "markdown",
   "metadata": {},
   "source": [
    "dict[key]=value"
   ]
  },
  {
   "cell_type": "markdown",
   "metadata": {},
   "source": [
    "查"
   ]
  },
  {
   "cell_type": "markdown",
   "metadata": {},
   "source": [
    "dict[key]                        "
   ]
  },
  {
   "cell_type": "markdown",
   "metadata": {},
   "source": [
    "dict.get(key) "
   ]
  },
  {
   "cell_type": "markdown",
   "metadata": {},
   "source": [
    "遍历"
   ]
  },
  {
   "cell_type": "markdown",
   "metadata": {},
   "source": [
    "for key in dict: "
   ]
  },
  {
   "cell_type": "markdown",
   "metadata": {},
   "source": [
    "2.for key in dict.keys():                  "
   ]
  },
  {
   "cell_type": "markdown",
   "metadata": {},
   "source": [
    "3.for value in dict.values()"
   ]
  },
  {
   "cell_type": "markdown",
   "metadata": {},
   "source": [
    "4.for key,value in dict.item():"
   ]
  },
  {
   "cell_type": "markdown",
   "metadata": {},
   "source": []
  },
  {
   "cell_type": "markdown",
   "metadata": {},
   "source": [
    "### Set"
   ]
  },
  {
   "cell_type": "markdown",
   "metadata": {},
   "source": [
    "set集合是一个无重复元素的无顺序的集合"
   ]
  },
  {
   "cell_type": "markdown",
   "metadata": {},
   "source": [
    "set集合定义的时候需要使用tuple元组或者list列表或者 string字符串或者dict字典(会引用字典的key)来定义"
   ]
  },
  {
   "cell_type": "markdown",
   "metadata": {},
   "source": [
    "set(tuple或者list或者 字符串或者字典)"
   ]
  },
  {
   "cell_type": "markdown",
   "metadata": {},
   "source": [
    "增"
   ]
  },
  {
   "cell_type": "markdown",
   "metadata": {},
   "source": [
    "set.add()"
   ]
  },
  {
   "cell_type": "markdown",
   "metadata": {},
   "source": [
    "删"
   ]
  },
  {
   "cell_type": "markdown",
   "metadata": {},
   "source": [
    "set.remove()"
   ]
  },
  {
   "cell_type": "markdown",
   "metadata": {},
   "source": [
    "改"
   ]
  },
  {
   "cell_type": "markdown",
   "metadata": {},
   "source": [
    "不可以更改"
   ]
  },
  {
   "cell_type": "markdown",
   "metadata": {},
   "source": [
    "查"
   ]
  },
  {
   "cell_type": "markdown",
   "metadata": {},
   "source": [
    "不可以直接访问,使用遍历访问"
   ]
  },
  {
   "cell_type": "markdown",
   "metadata": {},
   "source": [
    "遍历"
   ]
  },
  {
   "cell_type": "markdown",
   "metadata": {},
   "source": [
    "for  set元素 in set集合:"
   ]
  },
  {
   "cell_type": "markdown",
   "metadata": {},
   "source": [
    "交集与并集"
   ]
  },
  {
   "cell_type": "markdown",
   "metadata": {},
   "source": [
    "交集set3 = set1 & set2        并集set3 = set1 | set2"
   ]
  },
  {
   "cell_type": "markdown",
   "metadata": {},
   "source": [
    " 并集set3 = set1 | set2"
   ]
  },
  {
   "cell_type": "markdown",
   "metadata": {},
   "source": [
    "## 条件判断"
   ]
  },
  {
   "cell_type": "markdown",
   "metadata": {},
   "source": [
    "if 语句"
   ]
  },
  {
   "cell_type": "markdown",
   "metadata": {},
   "source": [
    "\n",
    "格式1:if\n",
    "\n",
    "语句0\n",
    "if 表达式:\n",
    "   语句1;\n",
    "   语句2....\n",
    "语句3...\n",
    "-------------------------------------\n",
    "格式2:  if - else语句\n",
    "语句0\n",
    "if  表达式:\n",
    "   语句1\n",
    "   语句2\n",
    "else:\n",
    "   语句3\n",
    "语句4\n",
    "--------------------------------\n",
    "格式3:\n",
    "语句0\n",
    "if 表达式1:\n",
    "   语句1\n",
    "elif 表达式2:\n",
    "    语句2\n",
    "elif 表达式3:\n",
    "    语句3\n",
    ".....\n",
    "else:      (除以上情况以外的, 该else可以不写)\n",
    "   语句4\n",
    "---------------------------------------------------\n",
    "格式4:if嵌套\n",
    "语句1\n",
    "if 表达式1:\n",
    "    if 表达式2:\n",
    "        可以继续嵌套if语句\n",
    "    else:\n",
    "\n",
    "    if 表达式3:\n",
    "    elif\n",
    "     ....\n",
    "else:"
   ]
  },
  {
   "cell_type": "markdown",
   "metadata": {},
   "source": [
    "while 语句"
   ]
  },
  {
   "cell_type": "markdown",
   "metadata": {},
   "source": [
    "while 表达式１：　\n",
    "    语句１\n",
    "    break\n",
    "else :\n",
    "    语句２\n",
    "描述：　循环ｗｈｉｌｅ会判断表达式１，如果为真则执行循环体，\n",
    "　　　当表达式１为假时，会跳出循环体，执行ｅｌｓｅ中的语句２"
   ]
  },
  {
   "cell_type": "markdown",
   "metadata": {},
   "source": []
  },
  {
   "cell_type": "markdown",
   "metadata": {},
   "source": [
    "## 循环"
   ]
  },
  {
   "cell_type": "markdown",
   "metadata": {},
   "source": [
    "for循环"
   ]
  },
  {
   "cell_type": "markdown",
   "metadata": {},
   "source": []
  }
 ],
 "metadata": {
  "kernelspec": {
   "display_name": "Python 3",
   "language": "python",
   "name": "python3"
  },
  "language_info": {
   "codemirror_mode": {
    "name": "ipython",
    "version": 3
   },
   "file_extension": ".py",
   "mimetype": "text/x-python",
   "name": "python",
   "nbconvert_exporter": "python",
   "pygments_lexer": "ipython3",
   "version": "3.6.4"
  }
 },
 "nbformat": 4,
 "nbformat_minor": 2
}
