{
 "cells": [
  {
   "cell_type": "markdown",
   "metadata": {},
   "source": [
    "# Day03-Requests库"
   ]
  },
  {
   "cell_type": "markdown",
   "metadata": {},
   "source": [
    "## Requests库介绍 \n",
    " \n",
    "Requests是一个第三方的HTTP库，Requests库 继承了urllib的所有特性，但更加简单好用。就象Requests官网所宣称的那样，Requests库的目标是：让 HTTP 服务人类。在Requests官网上有一段文字：“非专业使用其他 HTTP 库会导致危险的副作用，包括：安全缺陷症、冗余代码症、重新发明轮子症、啃文档症、抑郁、头疼、甚至死亡。而Requests是唯一的一个非转基因的 Python HTTP 库，人类可以安全享用。”虽然这段文字有开玩笑的成分，但也恰恰说明了Requests库的特点。"
   ]
  },
  {
   "cell_type": "markdown",
   "metadata": {},
   "source": [
    "## Requests库安装\n",
    "因为Requests是一个第三方的库，所以在使用前必须要先安装：\n",
    "```\n",
    "pip install requests\n",
    "```"
   ]
  },
  {
   "cell_type": "markdown",
   "metadata": {},
   "source": [
    "## Requests库的基本使用"
   ]
  },
  {
   "cell_type": "markdown",
   "metadata": {},
   "source": [
    "### 导入"
   ]
  },
  {
   "cell_type": "code",
   "execution_count": 7,
   "metadata": {},
   "outputs": [],
   "source": [
    "import requests"
   ]
  },
  {
   "cell_type": "markdown",
   "metadata": {},
   "source": [
    "### 发送请求"
   ]
  },
  {
   "cell_type": "markdown",
   "metadata": {},
   "source": [
    "在本章的大部分示例中，我们都以 http://httpbin.org 网站为测试WEB服务器。\n",
    "\n",
    "`httpbin`这个网站能测试 HTTP 请求和响应的各种信息，比如 cookie、ip、headers 和登录验证等，且支持 GET、POST 等多种方法，对 web 开发和测试很有帮助。它用 Python + Flask 编写，是一个开源项目。\n",
    "\n",
    "Requests库为每一种HTTP 请求类型：GET,POST,PUT，DELETE，HEAD 以及 OPTIONS都提供了一个相应的方法,使用起来非常方便："
   ]
  },
  {
   "cell_type": "markdown",
   "metadata": {},
   "source": [
    "- GET"
   ]
  },
  {
   "cell_type": "code",
   "execution_count": 12,
   "metadata": {},
   "outputs": [
    {
     "name": "stdout",
     "output_type": "stream",
     "text": [
      "{\n",
      "  \"args\": {}, \n",
      "  \"headers\": {\n",
      "    \"Accept\": \"*/*\", \n",
      "    \"Accept-Encoding\": \"gzip, deflate\", \n",
      "    \"Host\": \"httpbin.org\", \n",
      "    \"User-Agent\": \"python-requests/2.22.0\"\n",
      "  }, \n",
      "  \"origin\": \"124.205.131.74, 124.205.131.74\", \n",
      "  \"url\": \"https://httpbin.org/get\"\n",
      "}\n",
      "\n"
     ]
    }
   ],
   "source": [
    "r = requests.get('http://httpbin.org/get')\n",
    "print(r.text)"
   ]
  },
  {
   "cell_type": "markdown",
   "metadata": {},
   "source": [
    "- POST"
   ]
  },
  {
   "cell_type": "code",
   "execution_count": 14,
   "metadata": {},
   "outputs": [
    {
     "name": "stdout",
     "output_type": "stream",
     "text": [
      "{\n",
      "  \"args\": {}, \n",
      "  \"data\": \"\", \n",
      "  \"files\": {}, \n",
      "  \"form\": {\n",
      "    \"key\": \"value\"\n",
      "  }, \n",
      "  \"headers\": {\n",
      "    \"Accept\": \"*/*\", \n",
      "    \"Accept-Encoding\": \"gzip, deflate\", \n",
      "    \"Content-Length\": \"9\", \n",
      "    \"Content-Type\": \"application/x-www-form-urlencoded\", \n",
      "    \"Host\": \"httpbin.org\", \n",
      "    \"User-Agent\": \"python-requests/2.22.0\"\n",
      "  }, \n",
      "  \"json\": null, \n",
      "  \"origin\": \"124.205.131.74, 124.205.131.74\", \n",
      "  \"url\": \"https://httpbin.org/post\"\n",
      "}\n",
      "\n"
     ]
    }
   ],
   "source": [
    "r = requests.post('http://httpbin.org/post', data = {'key':'value'})\n",
    "print(r.text)"
   ]
  },
  {
   "cell_type": "markdown",
   "metadata": {},
   "source": [
    "- PUT"
   ]
  },
  {
   "cell_type": "code",
   "execution_count": 15,
   "metadata": {},
   "outputs": [
    {
     "name": "stdout",
     "output_type": "stream",
     "text": [
      "{\n",
      "  \"args\": {}, \n",
      "  \"data\": \"\", \n",
      "  \"files\": {}, \n",
      "  \"form\": {\n",
      "    \"key\": \"value\"\n",
      "  }, \n",
      "  \"headers\": {\n",
      "    \"Accept\": \"*/*\", \n",
      "    \"Accept-Encoding\": \"gzip, deflate\", \n",
      "    \"Content-Length\": \"9\", \n",
      "    \"Content-Type\": \"application/x-www-form-urlencoded\", \n",
      "    \"Host\": \"httpbin.org\", \n",
      "    \"User-Agent\": \"python-requests/2.22.0\"\n",
      "  }, \n",
      "  \"json\": null, \n",
      "  \"origin\": \"124.205.131.74, 124.205.131.74\", \n",
      "  \"url\": \"https://httpbin.org/put\"\n",
      "}\n",
      "\n"
     ]
    }
   ],
   "source": [
    "r = requests.put('http://httpbin.org/put', data = {'key':'value'})\n",
    "print(r.text)"
   ]
  },
  {
   "cell_type": "markdown",
   "metadata": {},
   "source": [
    "- DELETE"
   ]
  },
  {
   "cell_type": "code",
   "execution_count": 17,
   "metadata": {},
   "outputs": [
    {
     "name": "stdout",
     "output_type": "stream",
     "text": [
      "{\n",
      "  \"args\": {}, \n",
      "  \"data\": \"\", \n",
      "  \"files\": {}, \n",
      "  \"form\": {}, \n",
      "  \"headers\": {\n",
      "    \"Accept\": \"*/*\", \n",
      "    \"Accept-Encoding\": \"gzip, deflate\", \n",
      "    \"Host\": \"httpbin.org\", \n",
      "    \"User-Agent\": \"python-requests/2.22.0\"\n",
      "  }, \n",
      "  \"json\": null, \n",
      "  \"origin\": \"124.205.131.74, 124.205.131.74\", \n",
      "  \"url\": \"https://httpbin.org/delete\"\n",
      "}\n",
      "\n"
     ]
    }
   ],
   "source": [
    "r = requests.delete('http://httpbin.org/delete')\n",
    "print(r.text)"
   ]
  },
  {
   "cell_type": "markdown",
   "metadata": {},
   "source": [
    "- HEAD"
   ]
  },
  {
   "cell_type": "code",
   "execution_count": 19,
   "metadata": {},
   "outputs": [
    {
     "name": "stdout",
     "output_type": "stream",
     "text": [
      "\n"
     ]
    }
   ],
   "source": [
    "r = requests.head('http://httpbin.org/get')\n",
    "print(r.text)"
   ]
  },
  {
   "cell_type": "markdown",
   "metadata": {},
   "source": [
    "- OPTIONS"
   ]
  },
  {
   "cell_type": "code",
   "execution_count": 20,
   "metadata": {},
   "outputs": [
    {
     "name": "stdout",
     "output_type": "stream",
     "text": [
      "\n"
     ]
    }
   ],
   "source": [
    "r = requests.options('http://httpbin.org/get')\n",
    "print(r.text)"
   ]
  },
  {
   "cell_type": "markdown",
   "metadata": {},
   "source": [
    "### 传递URL参数\n",
    "发送GET请求经常需要使用URL 的查询字符串(query string)传递某种数据。\n",
    "\n",
    "以前我们通常使用字符串拼接的形式构建 URL，将数据放在一个问号的后面，以键/值对的形式置于 URL 中。例如：\n",
    "\n",
    "`httpbin.org/get?key=val`\n",
    "\n",
    "Requests库 允许你使用 params 关键字参数，以一个字典来提供这些参数。\n",
    "\n",
    "举例来说，如果你想传递 key1=value1 和 key2=value2 到 httpbin.org/get ，那么你可以使用如下代码：\n"
   ]
  },
  {
   "cell_type": "code",
   "execution_count": 22,
   "metadata": {},
   "outputs": [
    {
     "name": "stdout",
     "output_type": "stream",
     "text": [
      "http://httpbin.org/get?key1=value1&key2=value2\n"
     ]
    }
   ],
   "source": [
    "import requests\n",
    "payload = {'key1': 'value1', 'key2': 'value2'}\n",
    "r = requests.get(\"http://httpbin.org/get\", params=payload)\n",
    "print(r.url)"
   ]
  },
  {
   "cell_type": "markdown",
   "metadata": {},
   "source": [
    "<-- 这里需要注意：字典里值为 None 的键都不会被添加到 URL 的查询字符串里。-->\n",
    "\n",
    "也可以将一个列表作为值传入，用于传送同一名字的多个值："
   ]
  },
  {
   "cell_type": "code",
   "execution_count": 23,
   "metadata": {},
   "outputs": [
    {
     "name": "stdout",
     "output_type": "stream",
     "text": [
      "http://httpbin.org/get?key1=value1&key2=value2&key2=value3\n"
     ]
    }
   ],
   "source": [
    "import requests\n",
    "payload = {'key1': 'value1', 'key2': ['value2', 'value3']}\n",
    "r = requests.get('http://httpbin.org/get', params=payload)\n",
    "print(r.url)"
   ]
  },
  {
   "cell_type": "markdown",
   "metadata": {},
   "source": [
    "### 响应内容\n",
    "\n",
    "Requests库发送请求后，都会收到一个响应对象："
   ]
  },
  {
   "cell_type": "code",
   "execution_count": 24,
   "metadata": {},
   "outputs": [],
   "source": [
    "r = requests.get('http://httpbin.org/get')"
   ]
  },
  {
   "cell_type": "markdown",
   "metadata": {},
   "source": [
    "r就是一个响应对象。响应对象提供了一些属性，可以获取对应的数据："
   ]
  },
  {
   "cell_type": "markdown",
   "metadata": {},
   "source": [
    "- url:   返回完整的URL地址"
   ]
  },
  {
   "cell_type": "code",
   "execution_count": 25,
   "metadata": {},
   "outputs": [
    {
     "data": {
      "text/plain": [
       "'http://httpbin.org/get'"
      ]
     },
     "execution_count": 25,
     "metadata": {},
     "output_type": "execute_result"
    }
   ],
   "source": [
    "r.url"
   ]
  },
  {
   "cell_type": "markdown",
   "metadata": {},
   "source": [
    "- encoding:返回响应头部字符编码"
   ]
  },
  {
   "cell_type": "code",
   "execution_count": 26,
   "metadata": {},
   "outputs": [],
   "source": [
    "r.encoding"
   ]
  },
  {
   "cell_type": "markdown",
   "metadata": {},
   "source": [
    "- status_code:返回响应码"
   ]
  },
  {
   "cell_type": "code",
   "execution_count": 27,
   "metadata": {},
   "outputs": [
    {
     "data": {
      "text/plain": [
       "200"
      ]
     },
     "execution_count": 27,
     "metadata": {},
     "output_type": "execute_result"
    }
   ],
   "source": [
    "r.status_code"
   ]
  },
  {
   "cell_type": "markdown",
   "metadata": {},
   "source": [
    "- text:    以Unicode字符串形式返回响应内容，会自动解码"
   ]
  },
  {
   "cell_type": "code",
   "execution_count": 28,
   "metadata": {},
   "outputs": [
    {
     "data": {
      "text/plain": [
       "'{\\n  \"args\": {}, \\n  \"headers\": {\\n    \"Accept\": \"*/*\", \\n    \"Accept-Encoding\": \"gzip, deflate\", \\n    \"Host\": \"httpbin.org\", \\n    \"User-Agent\": \"python-requests/2.22.0\"\\n  }, \\n  \"origin\": \"124.205.131.74, 124.205.131.74\", \\n  \"url\": \"https://httpbin.org/get\"\\n}\\n'"
      ]
     },
     "execution_count": 28,
     "metadata": {},
     "output_type": "execute_result"
    }
   ],
   "source": [
    "r.text"
   ]
  },
  {
   "cell_type": "markdown",
   "metadata": {},
   "source": [
    "- content: 以字节流（二进制）形式返回响应内容"
   ]
  },
  {
   "cell_type": "code",
   "execution_count": 29,
   "metadata": {},
   "outputs": [
    {
     "data": {
      "text/plain": [
       "b'{\\n  \"args\": {}, \\n  \"headers\": {\\n    \"Accept\": \"*/*\", \\n    \"Accept-Encoding\": \"gzip, deflate\", \\n    \"Host\": \"httpbin.org\", \\n    \"User-Agent\": \"python-requests/2.22.0\"\\n  }, \\n  \"origin\": \"124.205.131.74, 124.205.131.74\", \\n  \"url\": \"https://httpbin.org/get\"\\n}\\n'"
      ]
     },
     "execution_count": 29,
     "metadata": {},
     "output_type": "execute_result"
    }
   ],
   "source": [
    "r.content"
   ]
  },
  {
   "cell_type": "markdown",
   "metadata": {},
   "source": [
    "### 定制请求头\n",
    "\n",
    "如果你想为请求添加 HTTP 头部，只要简单地传递一个 dict 给 headers 参数就可以了。例如，在前一个示例中我们没有指定 user-agent:"
   ]
  },
  {
   "cell_type": "code",
   "execution_count": 30,
   "metadata": {},
   "outputs": [],
   "source": [
    "import requests\n",
    "url = ' http://httpbin.org/get '\n",
    "headers = {\"User-Agent\": \"Mozilla/5.0 (Windows NT 10.0; Win64; x64) AppleWebKit/537.36 (KHTML, like Gecko) Chrome/54.0.2840.99 Safari/537.36\"} \n",
    "r = requests.get(url, headers=headers)"
   ]
  },
  {
   "cell_type": "markdown",
   "metadata": {},
   "source": [
    "### JSON 响应内容\n",
    "\n",
    "Requests库 中也有一个内置的 JSON 解码器，助你处理 JSON 数据："
   ]
  },
  {
   "cell_type": "code",
   "execution_count": 31,
   "metadata": {},
   "outputs": [
    {
     "name": "stdout",
     "output_type": "stream",
     "text": [
      "[{'id': '10010089590', 'type': 'PushEvent', 'actor': {'id': 52877103, 'login': 'Idolphint', 'display_login': 'Idolphint', 'gravatar_id': '', 'url': 'https://api.github.com/users/Idolphint', 'avatar_url': 'https://avatars.githubusercontent.com/u/52877103?'}, 'repo': {'id': 196843102, 'name': 'Idolphint/Vehicle-Object-Detection', 'url': 'https://api.github.com/repos/Idolphint/Vehicle-Object-Detection'}, 'payload': {'push_id': 3816299033, 'size': 1, 'distinct_size': 1, 'ref': 'refs/heads/master', 'head': 'ae3328a6845e0eb738a1c44f49d6edad1880c0c1', 'before': '487aff07bc3b09ebd3729cf7b812fe29503f24cc', 'commits': [{'sha': 'ae3328a6845e0eb738a1c44f49d6edad1880c0c1', 'author': {'email': 'litiantianper@163.com', 'name': 'Idolphint'}, 'message': 'hello?', 'distinct': True, 'url': 'https://api.github.com/repos/Idolphint/Vehicle-Object-Detection/commits/ae3328a6845e0eb738a1c44f49d6edad1880c0c1'}]}, 'public': True, 'created_at': '2019-07-15T06:54:18Z'}, {'id': '10010089588', 'type': 'PushEvent', 'actor': {'id': 52455446, 'login': 'Arnold-kinyua', 'display_login': 'Arnold-kinyua', 'gravatar_id': '', 'url': 'https://api.github.com/users/Arnold-kinyua', 'avatar_url': 'https://avatars.githubusercontent.com/u/52455446?'}, 'repo': {'id': 196606572, 'name': 'Arnold-kinyua/my-second-project', 'url': 'https://api.github.com/repos/Arnold-kinyua/my-second-project'}, 'payload': {'push_id': 3816299032, 'size': 1, 'distinct_size': 1, 'ref': 'refs/heads/master', 'head': '0206ee1837c08fc9dbcc6046c7a67d1985155819', 'before': 'df93d0df46c95e13b1ae140266cf08c5b27b8f15', 'commits': [{'sha': '0206ee1837c08fc9dbcc6046c7a67d1985155819', 'author': {'email': 'atush53@gmail.com', 'name': 'Arnold kinyua'}, 'message': 'this commit shows the contents of the about Akan names', 'distinct': True, 'url': 'https://api.github.com/repos/Arnold-kinyua/my-second-project/commits/0206ee1837c08fc9dbcc6046c7a67d1985155819'}]}, 'public': True, 'created_at': '2019-07-15T06:54:18Z'}, {'id': '10010089585', 'type': 'IssueCommentEvent', 'actor': {'id': 8983024, 'login': 'avelad', 'display_login': 'avelad', 'gravatar_id': '', 'url': 'https://api.github.com/users/avelad', 'avatar_url': 'https://avatars.githubusercontent.com/u/8983024?'}, 'repo': {'id': 28246472, 'name': 'google/shaka-player', 'url': 'https://api.github.com/repos/google/shaka-player'}, 'payload': {'action': 'created', 'issue': {'url': 'https://api.github.com/repos/google/shaka-player/issues/1962', 'repository_url': 'https://api.github.com/repos/google/shaka-player', 'labels_url': 'https://api.github.com/repos/google/shaka-player/issues/1962/labels{/name}', 'comments_url': 'https://api.github.com/repos/google/shaka-player/issues/1962/comments', 'events_url': 'https://api.github.com/repos/google/shaka-player/issues/1962/events', 'html_url': 'https://github.com/google/shaka-player/pull/1962', 'id': 448212086, 'node_id': 'MDExOlB1bGxSZXF1ZXN0MjgyMDQ4MTEw', 'number': 1962, 'title': 'improve TTML rendering', 'user': {'login': 'valotvince', 'id': 6253320, 'node_id': 'MDQ6VXNlcjYyNTMzMjA=', 'avatar_url': 'https://avatars3.githubusercontent.com/u/6253320?v=4', 'gravatar_id': '', 'url': 'https://api.github.com/users/valotvince', 'html_url': 'https://github.com/valotvince', 'followers_url': 'https://api.github.com/users/valotvince/followers', 'following_url': 'https://api.github.com/users/valotvince/following{/other_user}', 'gists_url': 'https://api.github.com/users/valotvince/gists{/gist_id}', 'starred_url': 'https://api.github.com/users/valotvince/starred{/owner}{/repo}', 'subscriptions_url': 'https://api.github.com/users/valotvince/subscriptions', 'organizations_url': 'https://api.github.com/users/valotvince/orgs', 'repos_url': 'https://api.github.com/users/valotvince/repos', 'events_url': 'https://api.github.com/users/valotvince/events{/privacy}', 'received_events_url': 'https://api.github.com/users/valotvince/received_events', 'type': 'User', 'site_admin': False}, 'labels': [{'id': 159144978, 'node_id': 'MDU6TGFiZWwxNTkxNDQ5Nzg=', 'url': 'https://api.github.com/repos/google/shaka-player/labels/enhancement', 'name': 'enhancement', 'color': '84b6eb', 'default': True}], 'state': 'closed', 'locked': False, 'assignee': None, 'assignees': [], 'milestone': None, 'comments': 21, 'created_at': '2019-05-24T14:50:52Z', 'updated_at': '2019-07-15T06:54:18Z', 'closed_at': '2019-07-12T23:25:59Z', 'author_association': 'CONTRIBUTOR', 'pull_request': {'url': 'https://api.github.com/repos/google/shaka-player/pulls/1962', 'html_url': 'https://github.com/google/shaka-player/pull/1962', 'diff_url': 'https://github.com/google/shaka-player/pull/1962.diff', 'patch_url': 'https://github.com/google/shaka-player/pull/1962.patch'}, 'body': 'This PR adds:\\r\\n- a notion of nested cue, that renders inside the parent cue\\r\\n- a first support of spans inside paragraphs\\r\\n\\r\\nHow to test:\\r\\n- Live MPD w/ TTML subtitles https://irtdashreference-i.akamaihd.net/dash/live/901161/bfs/manifestARD.mpd\\r\\n- VoD w/ French subtitles https://e213.cdn.m6web.fr/videos/test_pixel/usp/mb_hd2/subtitle/NCIS-TEARS2_chromecast_unp_sd_dash_v1.ism/Manifest.mpd (the subtitles are not in sync w/ the video, this was only made for debugging purpose)\\r\\n\\r\\nTODO\\r\\n\\r\\n- [ ] Unit tests: text_displayer(s), ttml_text_parser\\r\\n- [x] Rebase branch on master\\r\\n- [x] Follow the Contributing guidelines fully'}, 'comment': {'url': 'https://api.github.com/repos/google/shaka-player/issues/comments/511291877', 'html_url': 'https://github.com/google/shaka-player/pull/1962#issuecomment-511291877', 'issue_url': 'https://api.github.com/repos/google/shaka-player/issues/1962', 'id': 511291877, 'node_id': 'MDEyOklzc3VlQ29tbWVudDUxMTI5MTg3Nw==', 'user': {'login': 'avelad', 'id': 8983024, 'node_id': 'MDQ6VXNlcjg5ODMwMjQ=', 'avatar_url': 'https://avatars0.githubusercontent.com/u/8983024?v=4', 'gravatar_id': '', 'url': 'https://api.github.com/users/avelad', 'html_url': 'https://github.com/avelad', 'followers_url': 'https://api.github.com/users/avelad/followers', 'following_url': 'https://api.github.com/users/avelad/following{/other_user}', 'gists_url': 'https://api.github.com/users/avelad/gists{/gist_id}', 'starred_url': 'https://api.github.com/users/avelad/starred{/owner}{/repo}', 'subscriptions_url': 'https://api.github.com/users/avelad/subscriptions', 'organizations_url': 'https://api.github.com/users/avelad/orgs', 'repos_url': 'https://api.github.com/users/avelad/repos', 'events_url': 'https://api.github.com/users/avelad/events{/privacy}', 'received_events_url': 'https://api.github.com/users/avelad/received_events', 'type': 'User', 'site_admin': False}, 'created_at': '2019-07-15T06:54:18Z', 'updated_at': '2019-07-15T06:54:18Z', 'author_association': 'CONTRIBUTOR', 'body': 'The issue is related with the next if: https://github.com/google/shaka-player/commit/c670b55d72672dd05affaf4e984e6585993d45d6#diff-226b4f50d0392c977a71a42816ecdad1R246'}}, 'public': True, 'created_at': '2019-07-15T06:54:18Z', 'org': {'id': 1342004, 'login': 'google', 'gravatar_id': '', 'url': 'https://api.github.com/orgs/google', 'avatar_url': 'https://avatars.githubusercontent.com/u/1342004?'}}, {'id': '10010089589', 'type': 'WatchEvent', 'actor': {'id': 37793764, 'login': 'gaoyaxuan', 'display_login': 'gaoyaxuan', 'gravatar_id': '', 'url': 'https://api.github.com/users/gaoyaxuan', 'avatar_url': 'https://avatars.githubusercontent.com/u/37793764?'}, 'repo': {'id': 111995054, 'name': 'KiriKira/vTemplate', 'url': 'https://api.github.com/repos/KiriKira/vTemplate'}, 'payload': {'action': 'started'}, 'public': True, 'created_at': '2019-07-15T06:54:18Z'}, {'id': '10010089584', 'type': 'CreateEvent', 'actor': {'id': 313871, 'login': 'hollasch', 'display_login': 'hollasch', 'gravatar_id': '', 'url': 'https://api.github.com/users/hollasch', 'avatar_url': 'https://avatars.githubusercontent.com/u/313871?'}, 'repo': {'id': 146122692, 'name': 'hollasch/raytracinginoneweekend', 'url': 'https://api.github.com/repos/hollasch/raytracinginoneweekend'}, 'payload': {'ref': 'hollasch/book-math', 'ref_type': 'branch', 'master_branch': 'master', 'description': 'The source for the ebook Ray Tracing in One Weekend by Peter Shirley.   This work is in the public domain.', 'pusher_type': 'user'}, 'public': True, 'created_at': '2019-07-15T06:54:18Z'}, {'id': '10010089583', 'type': 'CreateEvent', 'actor': {'id': 38207825, 'login': 'NoelBright', 'display_login': 'NoelBright', 'gravatar_id': '', 'url': 'https://api.github.com/users/NoelBright', 'avatar_url': 'https://avatars.githubusercontent.com/u/38207825?'}, 'repo': {'id': 196941409, 'name': 'NoelBright/noel.github.io', 'url': 'https://api.github.com/repos/NoelBright/noel.github.io'}, 'payload': {'ref': 'master', 'ref_type': 'branch', 'master_branch': 'master', 'description': None, 'pusher_type': 'user'}, 'public': True, 'created_at': '2019-07-15T06:54:18Z'}, {'id': '10010089574', 'type': 'PushEvent', 'actor': {'id': 24546019, 'login': 'ceo-treatstock', 'display_login': 'ceo-treatstock', 'gravatar_id': '', 'url': 'https://api.github.com/users/ceo-treatstock', 'avatar_url': 'https://avatars.githubusercontent.com/u/24546019?'}, 'repo': {'id': 133943836, 'name': 'ceo-treatstock/apiv2', 'url': 'https://api.github.com/repos/ceo-treatstock/apiv2'}, 'payload': {'push_id': 3816299023, 'size': 1, 'distinct_size': 1, 'ref': 'refs/heads/master', 'head': '7ea71540a07e7114150623b878fa6a4ade7b7caa', 'before': '23e0869b28c766548771a0b6067c11f831c8e70d', 'commits': [{'sha': '7ea71540a07e7114150623b878fa6a4ade7b7caa', 'author': {'email': 'support@treatstock.com', 'name': 'Artem Arno'}, 'message': 'change autoload scheme', 'distinct': True, 'url': 'https://api.github.com/repos/ceo-treatstock/apiv2/commits/7ea71540a07e7114150623b878fa6a4ade7b7caa'}]}, 'public': True, 'created_at': '2019-07-15T06:54:18Z'}, {'id': '10010089573', 'type': 'PushEvent', 'actor': {'id': 34156375, 'login': 'jorseng', 'display_login': 'jorseng', 'gravatar_id': '', 'url': 'https://api.github.com/users/jorseng', 'avatar_url': 'https://avatars.githubusercontent.com/u/34156375?'}, 'repo': {'id': 196919035, 'name': 'jorseng/TerraformWorkshop', 'url': 'https://api.github.com/repos/jorseng/TerraformWorkshop'}, 'payload': {'push_id': 3816299021, 'size': 1, 'distinct_size': 1, 'ref': 'refs/heads/master', 'head': '430ac7756029c36f6aaec34a94299217dfaa75ac', 'before': '6b2e4f7d5200e1b507ac4c664c5fc078bc902196', 'commits': [{'sha': '430ac7756029c36f6aaec34a94299217dfaa75ac', 'author': {'email': 'jorseng@gmail.com', 'name': 'Jor Seng'}, 'message': 'test', 'distinct': True, 'url': 'https://api.github.com/repos/jorseng/TerraformWorkshop/commits/430ac7756029c36f6aaec34a94299217dfaa75ac'}]}, 'public': True, 'created_at': '2019-07-15T06:54:18Z'}, {'id': '10010089572', 'type': 'PushEvent', 'actor': {'id': 10321850, 'login': 'aymkin', 'display_login': 'aymkin', 'gravatar_id': '', 'url': 'https://api.github.com/users/aymkin', 'avatar_url': 'https://avatars.githubusercontent.com/u/10321850?'}, 'repo': {'id': 190575380, 'name': 'aymkin/FL-11', 'url': 'https://api.github.com/repos/aymkin/FL-11'}, 'payload': {'push_id': 3816299020, 'size': 1, 'distinct_size': 1, 'ref': 'refs/heads/master', 'head': '35fc9b7ffb7a74196d8e75a0d946f855ed68af9a', 'before': '6becdf1236185221f7410ca1acdef7091ea7ae08', 'commits': [{'sha': '35fc9b7ffb7a74196d8e75a0d946f855ed68af9a', 'author': {'email': 'aymkin@gmail.com', 'name': 'aymkin'}, 'message': 'move on to the task 9', 'distinct': True, 'url': 'https://api.github.com/repos/aymkin/FL-11/commits/35fc9b7ffb7a74196d8e75a0d946f855ed68af9a'}]}, 'public': True, 'created_at': '2019-07-15T06:54:18Z'}, {'id': '10010089568', 'type': 'IssueCommentEvent', 'actor': {'id': 34261050, 'login': 'jackeybiao', 'display_login': 'jackeybiao', 'gravatar_id': '', 'url': 'https://api.github.com/users/jackeybiao', 'avatar_url': 'https://avatars.githubusercontent.com/u/34261050?'}, 'repo': {'id': 188969522, 'name': 'jackeybiao/jape-blog', 'url': 'https://api.github.com/repos/jackeybiao/jape-blog'}, 'payload': {'action': 'created', 'issue': {'url': 'https://api.github.com/repos/jackeybiao/jape-blog/issues/1', 'repository_url': 'https://api.github.com/repos/jackeybiao/jape-blog', 'labels_url': 'https://api.github.com/repos/jackeybiao/jape-blog/issues/1/labels{/name}', 'comments_url': 'https://api.github.com/repos/jackeybiao/jape-blog/issues/1/comments', 'events_url': 'https://api.github.com/repos/jackeybiao/jape-blog/issues/1/events', 'html_url': 'https://github.com/jackeybiao/jape-blog/issues/1', 'id': 467916651, 'node_id': 'MDU6SXNzdWU0Njc5MTY2NTE=', 'number': 1, 'title': '留言栏', 'user': {'login': 'jackeybiao', 'id': 34261050, 'node_id': 'MDQ6VXNlcjM0MjYxMDUw', 'avatar_url': 'https://avatars0.githubusercontent.com/u/34261050?v=4', 'gravatar_id': '', 'url': 'https://api.github.com/users/jackeybiao', 'html_url': 'https://github.com/jackeybiao', 'followers_url': 'https://api.github.com/users/jackeybiao/followers', 'following_url': 'https://api.github.com/users/jackeybiao/following{/other_user}', 'gists_url': 'https://api.github.com/users/jackeybiao/gists{/gist_id}', 'starred_url': 'https://api.github.com/users/jackeybiao/starred{/owner}{/repo}', 'subscriptions_url': 'https://api.github.com/users/jackeybiao/subscriptions', 'organizations_url': 'https://api.github.com/users/jackeybiao/orgs', 'repos_url': 'https://api.github.com/users/jackeybiao/repos', 'events_url': 'https://api.github.com/users/jackeybiao/events{/privacy}', 'received_events_url': 'https://api.github.com/users/jackeybiao/received_events', 'type': 'User', 'site_admin': False}, 'labels': [], 'state': 'open', 'locked': False, 'assignee': None, 'assignees': [], 'milestone': None, 'comments': 3, 'created_at': '2019-07-15T02:27:35Z', 'updated_at': '2019-07-15T06:54:18Z', 'closed_at': None, 'author_association': 'OWNER', 'body': '博客留言在下面 按创建时间排序'}, 'comment': {'url': 'https://api.github.com/repos/jackeybiao/jape-blog/issues/comments/511291875', 'html_url': 'https://github.com/jackeybiao/jape-blog/issues/1#issuecomment-511291875', 'issue_url': 'https://api.github.com/repos/jackeybiao/jape-blog/issues/1', 'id': 511291875, 'node_id': 'MDEyOklzc3VlQ29tbWVudDUxMTI5MTg3NQ==', 'user': {'login': 'jackeybiao', 'id': 34261050, 'node_id': 'MDQ6VXNlcjM0MjYxMDUw', 'avatar_url': 'https://avatars0.githubusercontent.com/u/34261050?v=4', 'gravatar_id': '', 'url': 'https://api.github.com/users/jackeybiao', 'html_url': 'https://github.com/jackeybiao', 'followers_url': 'https://api.github.com/users/jackeybiao/followers', 'following_url': 'https://api.github.com/users/jackeybiao/following{/other_user}', 'gists_url': 'https://api.github.com/users/jackeybiao/gists{/gist_id}', 'starred_url': 'https://api.github.com/users/jackeybiao/starred{/owner}{/repo}', 'subscriptions_url': 'https://api.github.com/users/jackeybiao/subscriptions', 'organizations_url': 'https://api.github.com/users/jackeybiao/orgs', 'repos_url': 'https://api.github.com/users/jackeybiao/repos', 'events_url': 'https://api.github.com/users/jackeybiao/events{/privacy}', 'received_events_url': 'https://api.github.com/users/jackeybiao/received_events', 'type': 'User', 'site_admin': False}, 'created_at': '2019-07-15T06:54:18Z', 'updated_at': '2019-07-15T06:54:18Z', 'author_association': 'OWNER', 'body': 'text#2222@qq.com#hhhhh'}}, 'public': True, 'created_at': '2019-07-15T06:54:18Z'}, {'id': '10010089567', 'type': 'PushEvent', 'actor': {'id': 51917561, 'login': 'pasqualenaclerio', 'display_login': 'pasqualenaclerio', 'gravatar_id': '', 'url': 'https://api.github.com/users/pasqualenaclerio', 'avatar_url': 'https://avatars.githubusercontent.com/u/51917561?'}, 'repo': {'id': 192355087, 'name': 'pasqualenaclerio/kura', 'url': 'https://api.github.com/repos/pasqualenaclerio/kura'}, 'payload': {'push_id': 3816299017, 'size': 2, 'distinct_size': 2, 'ref': 'refs/heads/driver_xdk', 'head': '3d908488f8c23a7e9ed721df23a01bffa09d257d', 'before': 'a803389fac41ea260103fb6797a2b7881a90cf7f', 'commits': [{'sha': '2f284f59b57e4307a5dca30e96907265a37676f3', 'author': {'email': 'pasquale.naclerio@eurotech.com', 'name': 'Pasquale Naclerio'}, 'message': 'Start implementation testfor xdk driver.\\n\\nSigned-off-by: Pasquale Naclerio <pasquale.naclerio@eurotech.com>', 'distinct': True, 'url': 'https://api.github.com/repos/pasqualenaclerio/kura/commits/2f284f59b57e4307a5dca30e96907265a37676f3'}, {'sha': '3d908488f8c23a7e9ed721df23a01bffa09d257d', 'author': {'email': 'pasquale.naclerio@eurotech.com', 'name': 'Pasquale Naclerio'}, 'message': 'changes to the text.\\n\\nSigned-off-by: Pasquale Naclerio <pasquale.naclerio@eurotech.com>', 'distinct': True, 'url': 'https://api.github.com/repos/pasqualenaclerio/kura/commits/3d908488f8c23a7e9ed721df23a01bffa09d257d'}]}, 'public': True, 'created_at': '2019-07-15T06:54:18Z'}, {'id': '10010089562', 'type': 'PushEvent', 'actor': {'id': 52019143, 'login': 'joeyjoey60', 'display_login': 'joeyjoey60', 'gravatar_id': '', 'url': 'https://api.github.com/users/joeyjoey60', 'avatar_url': 'https://avatars.githubusercontent.com/u/52019143?'}, 'repo': {'id': 196918958, 'name': 'joeyjoey60/data-zhou', 'url': 'https://api.github.com/repos/joeyjoey60/data-zhou'}, 'payload': {'push_id': 3816299016, 'size': 1, 'distinct_size': 1, 'ref': 'refs/heads/master', 'head': 'bedccf98e9ded114ec76e5902ce7876f12cc5fdc', 'before': 'b90d553e2cef00c98006f2219b0d465307f2f4c4', 'commits': [{'sha': 'bedccf98e9ded114ec76e5902ce7876f12cc5fdc', 'author': {'email': '52019143+joeyjoey60@users.noreply.github.com', 'name': 'joeyjoey60'}, 'message': 'Update config-ssm-dev.yml', 'distinct': True, 'url': 'https://api.github.com/repos/joeyjoey60/data-zhou/commits/bedccf98e9ded114ec76e5902ce7876f12cc5fdc'}]}, 'public': True, 'created_at': '2019-07-15T06:54:18Z'}, {'id': '10010089561', 'type': 'PushEvent', 'actor': {'id': 5619885, 'login': 'DilumAluthge', 'display_login': 'DilumAluthge', 'gravatar_id': '', 'url': 'https://api.github.com/users/DilumAluthge', 'avatar_url': 'https://avatars.githubusercontent.com/u/5619885?'}, 'repo': {'id': 170041040, 'name': 'aluthge/PredictMD-docker', 'url': 'https://api.github.com/repos/aluthge/PredictMD-docker'}, 'payload': {'push_id': 3816299015, 'size': 1, 'distinct_size': 1, 'ref': 'refs/heads/da/offline-toml', 'head': '37f793684fef9f34395cdf2a57e894f8083fcdf7', 'before': 'bf999bf0801d9f5e6791595fa68a593073c205cd', 'commits': [{'sha': '37f793684fef9f34395cdf2a57e894f8083fcdf7', 'author': {'email': 'dilum@aluthge.com', 'name': 'Dilum Aluthge'}, 'message': 'Update Dockerfile', 'distinct': True, 'url': 'https://api.github.com/repos/aluthge/PredictMD-docker/commits/37f793684fef9f34395cdf2a57e894f8083fcdf7'}]}, 'public': True, 'created_at': '2019-07-15T06:54:18Z', 'org': {'id': 46950857, 'login': 'aluthge', 'gravatar_id': '', 'url': 'https://api.github.com/orgs/aluthge', 'avatar_url': 'https://avatars.githubusercontent.com/u/46950857?'}}, {'id': '10010089559', 'type': 'PushEvent', 'actor': {'id': 51440729, 'login': 'xhj123456', 'display_login': 'xhj123456', 'gravatar_id': '', 'url': 'https://api.github.com/users/xhj123456', 'avatar_url': 'https://avatars.githubusercontent.com/u/51440729?'}, 'repo': {'id': 190554722, 'name': 'xhj123456/javaspring', 'url': 'https://api.github.com/repos/xhj123456/javaspring'}, 'payload': {'push_id': 3816299014, 'size': 2, 'distinct_size': 1, 'ref': 'refs/heads/master', 'head': 'c513d53d13eab934d3319297517ccb35ab7af27c', 'before': '0b8174781fd284558005aaab209f33d1d9c4dbf1', 'commits': [{'sha': 'f84a9d40167bbf6ff623909ed9989f85ccde0301', 'author': {'email': '1073458449@qq.com', 'name': 'xhj123456'}, 'message': 'ss', 'distinct': False, 'url': 'https://api.github.com/repos/xhj123456/javaspring/commits/f84a9d40167bbf6ff623909ed9989f85ccde0301'}, {'sha': 'c513d53d13eab934d3319297517ccb35ab7af27c', 'author': {'email': '51440729+xhj123456@users.noreply.github.com', 'name': 'xhj123456'}, 'message': 'Merge pull request #1 from xhj123456/ddd\\n\\nss', 'distinct': True, 'url': 'https://api.github.com/repos/xhj123456/javaspring/commits/c513d53d13eab934d3319297517ccb35ab7af27c'}]}, 'public': True, 'created_at': '2019-07-15T06:54:18Z'}, {'id': '10010089560', 'type': 'CreateEvent', 'actor': {'id': 49699333, 'login': 'dependabot[bot]', 'display_login': 'dependabot', 'gravatar_id': '', 'url': 'https://api.github.com/users/dependabot[bot]', 'avatar_url': 'https://avatars.githubusercontent.com/u/49699333?'}, 'repo': {'id': 173675921, 'name': 'poeme-se/poeme-se', 'url': 'https://api.github.com/repos/poeme-se/poeme-se'}, 'payload': {'ref': 'dependabot/pip/django-2.0.12', 'ref_type': 'branch', 'master_branch': 'master', 'description': None, 'pusher_type': 'user'}, 'public': True, 'created_at': '2019-07-15T06:54:18Z', 'org': {'id': 48196475, 'login': 'poeme-se', 'gravatar_id': '', 'url': 'https://api.github.com/orgs/poeme-se', 'avatar_url': 'https://avatars.githubusercontent.com/u/48196475?'}}, {'id': '10010089555', 'type': 'PushEvent', 'actor': {'id': 50612435, 'login': 'bayeslabs', 'display_login': 'bayeslabs', 'gravatar_id': '', 'url': 'https://api.github.com/users/bayeslabs', 'avatar_url': 'https://avatars.githubusercontent.com/u/50612435?'}, 'repo': {'id': 196939925, 'name': 'bayeslabs/AiGym', 'url': 'https://api.github.com/repos/bayeslabs/AiGym'}, 'payload': {'push_id': 3816299011, 'size': 1, 'distinct_size': 1, 'ref': 'refs/heads/master', 'head': 'a628ba83d79831a65b4434f40f5d4a4da93e45bc', 'before': '6492e61677e39f02e3c604c48ce96346ea6e8e76', 'commits': [{'sha': 'a628ba83d79831a65b4434f40f5d4a4da93e45bc', 'author': {'email': '50612435+bayeslabs@users.noreply.github.com', 'name': 'bayeslabs'}, 'message': 'Update Readme.md', 'distinct': True, 'url': 'https://api.github.com/repos/bayeslabs/AiGym/commits/a628ba83d79831a65b4434f40f5d4a4da93e45bc'}]}, 'public': True, 'created_at': '2019-07-15T06:54:18Z'}, {'id': '10010089550', 'type': 'CreateEvent', 'actor': {'id': 15008311, 'login': 'ghkim3221', 'display_login': 'ghkim3221', 'gravatar_id': '', 'url': 'https://api.github.com/users/ghkim3221', 'avatar_url': 'https://avatars.githubusercontent.com/u/15008311?'}, 'repo': {'id': 196908144, 'name': 'databute/databuter', 'url': 'https://api.github.com/repos/databute/databuter'}, 'payload': {'ref': 'readme', 'ref_type': 'branch', 'master_branch': 'master', 'description': None, 'pusher_type': 'user'}, 'public': True, 'created_at': '2019-07-15T06:54:18Z', 'org': {'id': 52277372, 'login': 'databute', 'gravatar_id': '', 'url': 'https://api.github.com/orgs/databute', 'avatar_url': 'https://avatars.githubusercontent.com/u/52277372?'}}, {'id': '10010089542', 'type': 'PullRequestEvent', 'actor': {'id': 1005065, 'login': 'DeepDiver1975', 'display_login': 'DeepDiver1975', 'gravatar_id': '', 'url': 'https://api.github.com/users/DeepDiver1975', 'avatar_url': 'https://avatars.githubusercontent.com/u/1005065?'}, 'repo': {'id': 90605102, 'name': 'owncloud/owncloud-sdk', 'url': 'https://api.github.com/repos/owncloud/owncloud-sdk'}, 'payload': {'action': 'closed', 'number': 277, 'pull_request': {'url': 'https://api.github.com/repos/owncloud/owncloud-sdk/pulls/277', 'id': 296446740, 'node_id': 'MDExOlB1bGxSZXF1ZXN0Mjk2NDQ2NzQw', 'html_url': 'https://github.com/owncloud/owncloud-sdk/pull/277', 'diff_url': 'https://github.com/owncloud/owncloud-sdk/pull/277.diff', 'patch_url': 'https://github.com/owncloud/owncloud-sdk/pull/277.patch', 'issue_url': 'https://api.github.com/repos/owncloud/owncloud-sdk/issues/277', 'number': 277, 'state': 'closed', 'locked': False, 'title': 'Bump lint-staged from 9.1.0 to 9.2.0', 'user': {'login': 'dependabot-preview[bot]', 'id': 27856297, 'node_id': 'MDM6Qm90Mjc4NTYyOTc=', 'avatar_url': 'https://avatars3.githubusercontent.com/in/2141?v=4', 'gravatar_id': '', 'url': 'https://api.github.com/users/dependabot-preview%5Bbot%5D', 'html_url': 'https://github.com/apps/dependabot-preview', 'followers_url': 'https://api.github.com/users/dependabot-preview%5Bbot%5D/followers', 'following_url': 'https://api.github.com/users/dependabot-preview%5Bbot%5D/following{/other_user}', 'gists_url': 'https://api.github.com/users/dependabot-preview%5Bbot%5D/gists{/gist_id}', 'starred_url': 'https://api.github.com/users/dependabot-preview%5Bbot%5D/starred{/owner}{/repo}', 'subscriptions_url': 'https://api.github.com/users/dependabot-preview%5Bbot%5D/subscriptions', 'organizations_url': 'https://api.github.com/users/dependabot-preview%5Bbot%5D/orgs', 'repos_url': 'https://api.github.com/users/dependabot-preview%5Bbot%5D/repos', 'events_url': 'https://api.github.com/users/dependabot-preview%5Bbot%5D/events{/privacy}', 'received_events_url': 'https://api.github.com/users/dependabot-preview%5Bbot%5D/received_events', 'type': 'Bot', 'site_admin': False}, 'body': '[//]: # (dependabot-start)\\n⚠️  **Dependabot is rebasing this PR** ⚠️ \\n\\nIf you make any changes to it yourself then they will take precedence over the rebase.\\n\\n---\\n\\n[//]: # (dependabot-end)\\n\\nBumps [lint-staged](https://github.com/okonet/lint-staged) from 9.1.0 to 9.2.0.\\n<details>\\n<summary>Release notes</summary>\\n\\n*Sourced from [lint-staged\\'s releases](https://github.com/okonet/lint-staged/releases).*\\n\\n> ## v9.2.0\\n> # [9.2.0](https://github.com/okonet/lint-staged/compare/v9.1.0...v9.2.0) (2019-07-10)\\n> \\n> \\n> ### Features\\n> \\n> * add --relative option for controlling file paths ([242deb5](https://github.com/okonet/lint-staged/commit/242deb5))\\n</details>\\n<details>\\n<summary>Commits</summary>\\n\\n- [`443ee90`](https://github.com/okonet/lint-staged/commit/443ee9002018e07659196ad02708e4b78607d428) test: add test for gitStashPop throwing\\n- [`242deb5`](https://github.com/okonet/lint-staged/commit/242deb5564ffcf98a6f73801d9f7780d96fde24c) feat: add --relative option for controlling file paths\\n- [`6572a82`](https://github.com/okonet/lint-staged/commit/6572a82e1b63718ae58918db897733c45e07b6ec) docs: fix a typo ([#657](https://github-redirect.dependabot.com/okonet/lint-staged/issues/657))\\n- See full diff in [compare view](https://github.com/okonet/lint-staged/compare/v9.1.0...v9.2.0)\\n</details>\\n<br />\\n\\n[![Dependabot compatibility score](https://api.dependabot.com/badges/compatibility_score?dependency-name=lint-staged&package-manager=npm_and_yarn&previous-version=9.1.0&new-version=9.2.0)](https://dependabot.com/compatibility-score.html?dependency-name=lint-staged&package-manager=npm_and_yarn&previous-version=9.1.0&new-version=9.2.0)\\n\\nDependabot will resolve any conflicts with this PR as long as you don\\'t alter it yourself. You can also trigger a rebase manually by commenting `@dependabot rebase`.\\n\\n[//]: # (dependabot-automerge-start)\\n[//]: # (dependabot-automerge-end)\\n\\n---\\n\\n<details>\\n<summary>Dependabot commands and options</summary>\\n<br />\\n\\nYou can trigger Dependabot actions by commenting on this PR:\\n- `@dependabot rebase` will rebase this PR\\n- `@dependabot recreate` will recreate this PR, overwriting any edits that have been made to it\\n- `@dependabot merge` will merge this PR after your CI passes on it\\n- `@dependabot squash and merge` will squash and merge this PR after your CI passes on it\\n- `@dependabot cancel merge` will cancel a previously requested merge and block automerging\\n- `@dependabot reopen` will reopen this PR if it is closed\\n- `@dependabot ignore this [patch|minor|major] version` will close this PR and stop Dependabot creating any more for this minor/major version (unless you reopen the PR or upgrade to it). To ignore the version in this PR you can just close it\\n- `@dependabot ignore this dependency` will close this PR and stop Dependabot creating any more for this dependency (unless you reopen the PR or upgrade to it yourself)\\n- `@dependabot use these labels` will set the current labels as the default for future PRs for this repo and language\\n- `@dependabot use these reviewers` will set the current reviewers as the default for future PRs for this repo and language\\n- `@dependabot use these assignees` will set the current assignees as the default for future PRs for this repo and language\\n- `@dependabot use this milestone` will set the current milestone as the default for future PRs for this repo and language\\n- `@dependabot badge me` will comment on this PR with code to add a \"Dependabot enabled\" badge to your readme\\n\\nAdditionally, you can set the following in your Dependabot [dashboard](https://app.dependabot.com):\\n- Update frequency (including time of day and day of week)\\n- Automerge options (never/patch/minor, and dev/runtime dependencies)\\n- Pull request limits (per update run and/or open at any time)\\n- Out-of-range updates (receive only lockfile updates, if desired)\\n- Security updates (receive only security updates, if desired)\\n\\nFinally, you can contact us by mentioning @dependabot.\\n\\n</details>', 'created_at': '2019-07-11T03:32:19Z', 'updated_at': '2019-07-15T06:54:17Z', 'closed_at': '2019-07-15T06:54:17Z', 'merged_at': '2019-07-15T06:54:17Z', 'merge_commit_sha': '035eb00246c719e691a708539bc1904fdb1519e1', 'assignee': {'login': 'DeepDiver1975', 'id': 1005065, 'node_id': 'MDQ6VXNlcjEwMDUwNjU=', 'avatar_url': 'https://avatars2.githubusercontent.com/u/1005065?v=4', 'gravatar_id': '', 'url': 'https://api.github.com/users/DeepDiver1975', 'html_url': 'https://github.com/DeepDiver1975', 'followers_url': 'https://api.github.com/users/DeepDiver1975/followers', 'following_url': 'https://api.github.com/users/DeepDiver1975/following{/other_user}', 'gists_url': 'https://api.github.com/users/DeepDiver1975/gists{/gist_id}', 'starred_url': 'https://api.github.com/users/DeepDiver1975/starred{/owner}{/repo}', 'subscriptions_url': 'https://api.github.com/users/DeepDiver1975/subscriptions', 'organizations_url': 'https://api.github.com/users/DeepDiver1975/orgs', 'repos_url': 'https://api.github.com/users/DeepDiver1975/repos', 'events_url': 'https://api.github.com/users/DeepDiver1975/events{/privacy}', 'received_events_url': 'https://api.github.com/users/DeepDiver1975/received_events', 'type': 'User', 'site_admin': False}, 'assignees': [{'login': 'DeepDiver1975', 'id': 1005065, 'node_id': 'MDQ6VXNlcjEwMDUwNjU=', 'avatar_url': 'https://avatars2.githubusercontent.com/u/1005065?v=4', 'gravatar_id': '', 'url': 'https://api.github.com/users/DeepDiver1975', 'html_url': 'https://github.com/DeepDiver1975', 'followers_url': 'https://api.github.com/users/DeepDiver1975/followers', 'following_url': 'https://api.github.com/users/DeepDiver1975/following{/other_user}', 'gists_url': 'https://api.github.com/users/DeepDiver1975/gists{/gist_id}', 'starred_url': 'https://api.github.com/users/DeepDiver1975/starred{/owner}{/repo}', 'subscriptions_url': 'https://api.github.com/users/DeepDiver1975/subscriptions', 'organizations_url': 'https://api.github.com/users/DeepDiver1975/orgs', 'repos_url': 'https://api.github.com/users/DeepDiver1975/repos', 'events_url': 'https://api.github.com/users/DeepDiver1975/events{/privacy}', 'received_events_url': 'https://api.github.com/users/DeepDiver1975/received_events', 'type': 'User', 'site_admin': False}], 'requested_reviewers': [], 'requested_teams': [], 'labels': [{'id': 899123035, 'node_id': 'MDU6TGFiZWw4OTkxMjMwMzU=', 'url': 'https://api.github.com/repos/owncloud/owncloud-sdk/labels/dependencies', 'name': 'dependencies', 'color': '0025ff', 'default': False}], 'milestone': None, 'commits_url': 'https://api.github.com/repos/owncloud/owncloud-sdk/pulls/277/commits', 'review_comments_url': 'https://api.github.com/repos/owncloud/owncloud-sdk/pulls/277/comments', 'review_comment_url': 'https://api.github.com/repos/owncloud/owncloud-sdk/pulls/comments{/number}', 'comments_url': 'https://api.github.com/repos/owncloud/owncloud-sdk/issues/277/comments', 'statuses_url': 'https://api.github.com/repos/owncloud/owncloud-sdk/statuses/ad371de238c35d31d57eaf425a37313eac7053eb', 'head': {'label': 'owncloud:dependabot/npm_and_yarn/lint-staged-9.2.0', 'ref': 'dependabot/npm_and_yarn/lint-staged-9.2.0', 'sha': 'ad371de238c35d31d57eaf425a37313eac7053eb', 'user': {'login': 'owncloud', 'id': 1645051, 'node_id': 'MDEyOk9yZ2FuaXphdGlvbjE2NDUwNTE=', 'avatar_url': 'https://avatars3.githubusercontent.com/u/1645051?v=4', 'gravatar_id': '', 'url': 'https://api.github.com/users/owncloud', 'html_url': 'https://github.com/owncloud', 'followers_url': 'https://api.github.com/users/owncloud/followers', 'following_url': 'https://api.github.com/users/owncloud/following{/other_user}', 'gists_url': 'https://api.github.com/users/owncloud/gists{/gist_id}', 'starred_url': 'https://api.github.com/users/owncloud/starred{/owner}{/repo}', 'subscriptions_url': 'https://api.github.com/users/owncloud/subscriptions', 'organizations_url': 'https://api.github.com/users/owncloud/orgs', 'repos_url': 'https://api.github.com/users/owncloud/repos', 'events_url': 'https://api.github.com/users/owncloud/events{/privacy}', 'received_events_url': 'https://api.github.com/users/owncloud/received_events', 'type': 'Organization', 'site_admin': False}, 'repo': {'id': 90605102, 'node_id': 'MDEwOlJlcG9zaXRvcnk5MDYwNTEwMg==', 'name': 'owncloud-sdk', 'full_name': 'owncloud/owncloud-sdk', 'private': False, 'owner': {'login': 'owncloud', 'id': 1645051, 'node_id': 'MDEyOk9yZ2FuaXphdGlvbjE2NDUwNTE=', 'avatar_url': 'https://avatars3.githubusercontent.com/u/1645051?v=4', 'gravatar_id': '', 'url': 'https://api.github.com/users/owncloud', 'html_url': 'https://github.com/owncloud', 'followers_url': 'https://api.github.com/users/owncloud/followers', 'following_url': 'https://api.github.com/users/owncloud/following{/other_user}', 'gists_url': 'https://api.github.com/users/owncloud/gists{/gist_id}', 'starred_url': 'https://api.github.com/users/owncloud/starred{/owner}{/repo}', 'subscriptions_url': 'https://api.github.com/users/owncloud/subscriptions', 'organizations_url': 'https://api.github.com/users/owncloud/orgs', 'repos_url': 'https://api.github.com/users/owncloud/repos', 'events_url': 'https://api.github.com/users/owncloud/events{/privacy}', 'received_events_url': 'https://api.github.com/users/owncloud/received_events', 'type': 'Organization', 'site_admin': False}, 'html_url': 'https://github.com/owncloud/owncloud-sdk', 'description': ':cloud: ownCloud client library for JavaScript', 'fork': False, 'url': 'https://api.github.com/repos/owncloud/owncloud-sdk', 'forks_url': 'https://api.github.com/repos/owncloud/owncloud-sdk/forks', 'keys_url': 'https://api.github.com/repos/owncloud/owncloud-sdk/keys{/key_id}', 'collaborators_url': 'https://api.github.com/repos/owncloud/owncloud-sdk/collaborators{/collaborator}', 'teams_url': 'https://api.github.com/repos/owncloud/owncloud-sdk/teams', 'hooks_url': 'https://api.github.com/repos/owncloud/owncloud-sdk/hooks', 'issue_events_url': 'https://api.github.com/repos/owncloud/owncloud-sdk/issues/events{/number}', 'events_url': 'https://api.github.com/repos/owncloud/owncloud-sdk/events', 'assignees_url': 'https://api.github.com/repos/owncloud/owncloud-sdk/assignees{/user}', 'branches_url': 'https://api.github.com/repos/owncloud/owncloud-sdk/branches{/branch}', 'tags_url': 'https://api.github.com/repos/owncloud/owncloud-sdk/tags', 'blobs_url': 'https://api.github.com/repos/owncloud/owncloud-sdk/git/blobs{/sha}', 'git_tags_url': 'https://api.github.com/repos/owncloud/owncloud-sdk/git/tags{/sha}', 'git_refs_url': 'https://api.github.com/repos/owncloud/owncloud-sdk/git/refs{/sha}', 'trees_url': 'https://api.github.com/repos/owncloud/owncloud-sdk/git/trees{/sha}', 'statuses_url': 'https://api.github.com/repos/owncloud/owncloud-sdk/statuses/{sha}', 'languages_url': 'https://api.github.com/repos/owncloud/owncloud-sdk/languages', 'stargazers_url': 'https://api.github.com/repos/owncloud/owncloud-sdk/stargazers', 'contributors_url': 'https://api.github.com/repos/owncloud/owncloud-sdk/contributors', 'subscribers_url': 'https://api.github.com/repos/owncloud/owncloud-sdk/subscribers', 'subscription_url': 'https://api.github.com/repos/owncloud/owncloud-sdk/subscription', 'commits_url': 'https://api.github.com/repos/owncloud/owncloud-sdk/commits{/sha}', 'git_commits_url': 'https://api.github.com/repos/owncloud/owncloud-sdk/git/commits{/sha}', 'comments_url': 'https://api.github.com/repos/owncloud/owncloud-sdk/comments{/number}', 'issue_comment_url': 'https://api.github.com/repos/owncloud/owncloud-sdk/issues/comments{/number}', 'contents_url': 'https://api.github.com/repos/owncloud/owncloud-sdk/contents/{+path}', 'compare_url': 'https://api.github.com/repos/owncloud/owncloud-sdk/compare/{base}...{head}', 'merges_url': 'https://api.github.com/repos/owncloud/owncloud-sdk/merges', 'archive_url': 'https://api.github.com/repos/owncloud/owncloud-sdk/{archive_format}{/ref}', 'downloads_url': 'https://api.github.com/repos/owncloud/owncloud-sdk/downloads', 'issues_url': 'https://api.github.com/repos/owncloud/owncloud-sdk/issues{/number}', 'pulls_url': 'https://api.github.com/repos/owncloud/owncloud-sdk/pulls{/number}', 'milestones_url': 'https://api.github.com/repos/owncloud/owncloud-sdk/milestones{/number}', 'notifications_url': 'https://api.github.com/repos/owncloud/owncloud-sdk/notifications{?since,all,participating}', 'labels_url': 'https://api.github.com/repos/owncloud/owncloud-sdk/labels{/name}', 'releases_url': 'https://api.github.com/repos/owncloud/owncloud-sdk/releases{/id}', 'deployments_url': 'https://api.github.com/repos/owncloud/owncloud-sdk/deployments', 'created_at': '2017-05-08T08:36:34Z', 'updated_at': '2019-07-15T06:54:01Z', 'pushed_at': '2019-07-15T06:54:17Z', 'git_url': 'git://github.com/owncloud/owncloud-sdk.git', 'ssh_url': 'git@github.com:owncloud/owncloud-sdk.git', 'clone_url': 'https://github.com/owncloud/owncloud-sdk.git', 'svn_url': 'https://github.com/owncloud/owncloud-sdk', 'homepage': 'https://www.npmjs.com/package/owncloud-sdk', 'size': 3519, 'stargazers_count': 38, 'watchers_count': 38, 'language': 'JavaScript', 'has_issues': True, 'has_projects': True, 'has_downloads': True, 'has_wiki': True, 'has_pages': True, 'forks_count': 13, 'mirror_url': None, 'archived': False, 'disabled': False, 'open_issues_count': 15, 'license': {'key': 'mit', 'name': 'MIT License', 'spdx_id': 'MIT', 'url': 'https://api.github.com/licenses/mit', 'node_id': 'MDc6TGljZW5zZTEz'}, 'forks': 13, 'open_issues': 15, 'watchers': 38, 'default_branch': 'master'}}, 'base': {'label': 'owncloud:master', 'ref': 'master', 'sha': '35e35647143c8a0ff937889011def4f4dac6eb88', 'user': {'login': 'owncloud', 'id': 1645051, 'node_id': 'MDEyOk9yZ2FuaXphdGlvbjE2NDUwNTE=', 'avatar_url': 'https://avatars3.githubusercontent.com/u/1645051?v=4', 'gravatar_id': '', 'url': 'https://api.github.com/users/owncloud', 'html_url': 'https://github.com/owncloud', 'followers_url': 'https://api.github.com/users/owncloud/followers', 'following_url': 'https://api.github.com/users/owncloud/following{/other_user}', 'gists_url': 'https://api.github.com/users/owncloud/gists{/gist_id}', 'starred_url': 'https://api.github.com/users/owncloud/starred{/owner}{/repo}', 'subscriptions_url': 'https://api.github.com/users/owncloud/subscriptions', 'organizations_url': 'https://api.github.com/users/owncloud/orgs', 'repos_url': 'https://api.github.com/users/owncloud/repos', 'events_url': 'https://api.github.com/users/owncloud/events{/privacy}', 'received_events_url': 'https://api.github.com/users/owncloud/received_events', 'type': 'Organization', 'site_admin': False}, 'repo': {'id': 90605102, 'node_id': 'MDEwOlJlcG9zaXRvcnk5MDYwNTEwMg==', 'name': 'owncloud-sdk', 'full_name': 'owncloud/owncloud-sdk', 'private': False, 'owner': {'login': 'owncloud', 'id': 1645051, 'node_id': 'MDEyOk9yZ2FuaXphdGlvbjE2NDUwNTE=', 'avatar_url': 'https://avatars3.githubusercontent.com/u/1645051?v=4', 'gravatar_id': '', 'url': 'https://api.github.com/users/owncloud', 'html_url': 'https://github.com/owncloud', 'followers_url': 'https://api.github.com/users/owncloud/followers', 'following_url': 'https://api.github.com/users/owncloud/following{/other_user}', 'gists_url': 'https://api.github.com/users/owncloud/gists{/gist_id}', 'starred_url': 'https://api.github.com/users/owncloud/starred{/owner}{/repo}', 'subscriptions_url': 'https://api.github.com/users/owncloud/subscriptions', 'organizations_url': 'https://api.github.com/users/owncloud/orgs', 'repos_url': 'https://api.github.com/users/owncloud/repos', 'events_url': 'https://api.github.com/users/owncloud/events{/privacy}', 'received_events_url': 'https://api.github.com/users/owncloud/received_events', 'type': 'Organization', 'site_admin': False}, 'html_url': 'https://github.com/owncloud/owncloud-sdk', 'description': ':cloud: ownCloud client library for JavaScript', 'fork': False, 'url': 'https://api.github.com/repos/owncloud/owncloud-sdk', 'forks_url': 'https://api.github.com/repos/owncloud/owncloud-sdk/forks', 'keys_url': 'https://api.github.com/repos/owncloud/owncloud-sdk/keys{/key_id}', 'collaborators_url': 'https://api.github.com/repos/owncloud/owncloud-sdk/collaborators{/collaborator}', 'teams_url': 'https://api.github.com/repos/owncloud/owncloud-sdk/teams', 'hooks_url': 'https://api.github.com/repos/owncloud/owncloud-sdk/hooks', 'issue_events_url': 'https://api.github.com/repos/owncloud/owncloud-sdk/issues/events{/number}', 'events_url': 'https://api.github.com/repos/owncloud/owncloud-sdk/events', 'assignees_url': 'https://api.github.com/repos/owncloud/owncloud-sdk/assignees{/user}', 'branches_url': 'https://api.github.com/repos/owncloud/owncloud-sdk/branches{/branch}', 'tags_url': 'https://api.github.com/repos/owncloud/owncloud-sdk/tags', 'blobs_url': 'https://api.github.com/repos/owncloud/owncloud-sdk/git/blobs{/sha}', 'git_tags_url': 'https://api.github.com/repos/owncloud/owncloud-sdk/git/tags{/sha}', 'git_refs_url': 'https://api.github.com/repos/owncloud/owncloud-sdk/git/refs{/sha}', 'trees_url': 'https://api.github.com/repos/owncloud/owncloud-sdk/git/trees{/sha}', 'statuses_url': 'https://api.github.com/repos/owncloud/owncloud-sdk/statuses/{sha}', 'languages_url': 'https://api.github.com/repos/owncloud/owncloud-sdk/languages', 'stargazers_url': 'https://api.github.com/repos/owncloud/owncloud-sdk/stargazers', 'contributors_url': 'https://api.github.com/repos/owncloud/owncloud-sdk/contributors', 'subscribers_url': 'https://api.github.com/repos/owncloud/owncloud-sdk/subscribers', 'subscription_url': 'https://api.github.com/repos/owncloud/owncloud-sdk/subscription', 'commits_url': 'https://api.github.com/repos/owncloud/owncloud-sdk/commits{/sha}', 'git_commits_url': 'https://api.github.com/repos/owncloud/owncloud-sdk/git/commits{/sha}', 'comments_url': 'https://api.github.com/repos/owncloud/owncloud-sdk/comments{/number}', 'issue_comment_url': 'https://api.github.com/repos/owncloud/owncloud-sdk/issues/comments{/number}', 'contents_url': 'https://api.github.com/repos/owncloud/owncloud-sdk/contents/{+path}', 'compare_url': 'https://api.github.com/repos/owncloud/owncloud-sdk/compare/{base}...{head}', 'merges_url': 'https://api.github.com/repos/owncloud/owncloud-sdk/merges', 'archive_url': 'https://api.github.com/repos/owncloud/owncloud-sdk/{archive_format}{/ref}', 'downloads_url': 'https://api.github.com/repos/owncloud/owncloud-sdk/downloads', 'issues_url': 'https://api.github.com/repos/owncloud/owncloud-sdk/issues{/number}', 'pulls_url': 'https://api.github.com/repos/owncloud/owncloud-sdk/pulls{/number}', 'milestones_url': 'https://api.github.com/repos/owncloud/owncloud-sdk/milestones{/number}', 'notifications_url': 'https://api.github.com/repos/owncloud/owncloud-sdk/notifications{?since,all,participating}', 'labels_url': 'https://api.github.com/repos/owncloud/owncloud-sdk/labels{/name}', 'releases_url': 'https://api.github.com/repos/owncloud/owncloud-sdk/releases{/id}', 'deployments_url': 'https://api.github.com/repos/owncloud/owncloud-sdk/deployments', 'created_at': '2017-05-08T08:36:34Z', 'updated_at': '2019-07-15T06:54:01Z', 'pushed_at': '2019-07-15T06:54:17Z', 'git_url': 'git://github.com/owncloud/owncloud-sdk.git', 'ssh_url': 'git@github.com:owncloud/owncloud-sdk.git', 'clone_url': 'https://github.com/owncloud/owncloud-sdk.git', 'svn_url': 'https://github.com/owncloud/owncloud-sdk', 'homepage': 'https://www.npmjs.com/package/owncloud-sdk', 'size': 3519, 'stargazers_count': 38, 'watchers_count': 38, 'language': 'JavaScript', 'has_issues': True, 'has_projects': True, 'has_downloads': True, 'has_wiki': True, 'has_pages': True, 'forks_count': 13, 'mirror_url': None, 'archived': False, 'disabled': False, 'open_issues_count': 15, 'license': {'key': 'mit', 'name': 'MIT License', 'spdx_id': 'MIT', 'url': 'https://api.github.com/licenses/mit', 'node_id': 'MDc6TGljZW5zZTEz'}, 'forks': 13, 'open_issues': 15, 'watchers': 38, 'default_branch': 'master'}}, '_links': {'self': {'href': 'https://api.github.com/repos/owncloud/owncloud-sdk/pulls/277'}, 'html': {'href': 'https://github.com/owncloud/owncloud-sdk/pull/277'}, 'issue': {'href': 'https://api.github.com/repos/owncloud/owncloud-sdk/issues/277'}, 'comments': {'href': 'https://api.github.com/repos/owncloud/owncloud-sdk/issues/277/comments'}, 'review_comments': {'href': 'https://api.github.com/repos/owncloud/owncloud-sdk/pulls/277/comments'}, 'review_comment': {'href': 'https://api.github.com/repos/owncloud/owncloud-sdk/pulls/comments{/number}'}, 'commits': {'href': 'https://api.github.com/repos/owncloud/owncloud-sdk/pulls/277/commits'}, 'statuses': {'href': 'https://api.github.com/repos/owncloud/owncloud-sdk/statuses/ad371de238c35d31d57eaf425a37313eac7053eb'}}, 'author_association': 'CONTRIBUTOR', 'merged': True, 'mergeable': None, 'rebaseable': None, 'mergeable_state': 'unknown', 'merged_by': {'login': 'DeepDiver1975', 'id': 1005065, 'node_id': 'MDQ6VXNlcjEwMDUwNjU=', 'avatar_url': 'https://avatars2.githubusercontent.com/u/1005065?v=4', 'gravatar_id': '', 'url': 'https://api.github.com/users/DeepDiver1975', 'html_url': 'https://github.com/DeepDiver1975', 'followers_url': 'https://api.github.com/users/DeepDiver1975/followers', 'following_url': 'https://api.github.com/users/DeepDiver1975/following{/other_user}', 'gists_url': 'https://api.github.com/users/DeepDiver1975/gists{/gist_id}', 'starred_url': 'https://api.github.com/users/DeepDiver1975/starred{/owner}{/repo}', 'subscriptions_url': 'https://api.github.com/users/DeepDiver1975/subscriptions', 'organizations_url': 'https://api.github.com/users/DeepDiver1975/orgs', 'repos_url': 'https://api.github.com/users/DeepDiver1975/repos', 'events_url': 'https://api.github.com/users/DeepDiver1975/events{/privacy}', 'received_events_url': 'https://api.github.com/users/DeepDiver1975/received_events', 'type': 'User', 'site_admin': False}, 'comments': 2, 'review_comments': 0, 'maintainer_can_modify': False, 'commits': 1, 'additions': 3, 'deletions': 3, 'changed_files': 1}}, 'public': True, 'created_at': '2019-07-15T06:54:18Z', 'org': {'id': 1645051, 'login': 'owncloud', 'gravatar_id': '', 'url': 'https://api.github.com/orgs/owncloud', 'avatar_url': 'https://avatars.githubusercontent.com/u/1645051?'}}, {'id': '10010089543', 'type': 'WatchEvent', 'actor': {'id': 23091621, 'login': 'devFallingstar', 'display_login': 'devFallingstar', 'gravatar_id': '', 'url': 'https://api.github.com/users/devFallingstar', 'avatar_url': 'https://avatars.githubusercontent.com/u/23091621?'}, 'repo': {'id': 76747577, 'name': 'AlexeyAB/Yolo_mark', 'url': 'https://api.github.com/repos/AlexeyAB/Yolo_mark'}, 'payload': {'action': 'started'}, 'public': True, 'created_at': '2019-07-15T06:54:18Z'}, {'id': '10010089539', 'type': 'PushEvent', 'actor': {'id': 29396198, 'login': 'metarsit', 'display_login': 'metarsit', 'gravatar_id': '', 'url': 'https://api.github.com/users/metarsit', 'avatar_url': 'https://avatars.githubusercontent.com/u/29396198?'}, 'repo': {'id': 194021694, 'name': 'metarsit/rticonnextdds-connector-go', 'url': 'https://api.github.com/repos/metarsit/rticonnextdds-connector-go'}, 'payload': {'push_id': 3816299007, 'size': 1, 'distinct_size': 1, 'ref': 'refs/heads/fix/lint', 'head': '3e0fed395c04a93bea44080032c5f0383da8189b', 'before': '7d7808119b9e0aeb10204a1078188c2c04a89419', 'commits': [{'sha': '3e0fed395c04a93bea44080032c5f0383da8189b', 'author': {'email': 'metarsit@nutonomy.com', 'name': 'Metarsit Leenayongwut'}, 'message': 'Enable golint', 'distinct': True, 'url': 'https://api.github.com/repos/metarsit/rticonnextdds-connector-go/commits/3e0fed395c04a93bea44080032c5f0383da8189b'}]}, 'public': True, 'created_at': '2019-07-15T06:54:18Z'}, {'id': '10010089541', 'type': 'PullRequestEvent', 'actor': {'id': 27856297, 'login': 'dependabot-preview[bot]', 'display_login': 'dependabot-preview', 'gravatar_id': '', 'url': 'https://api.github.com/users/dependabot-preview[bot]', 'avatar_url': 'https://avatars.githubusercontent.com/u/27856297?'}, 'repo': {'id': 71471849, 'name': 'nextcloud/tasks', 'url': 'https://api.github.com/repos/nextcloud/tasks'}, 'payload': {'action': 'closed', 'number': 502, 'pull_request': {'url': 'https://api.github.com/repos/nextcloud/tasks/pulls/502', 'id': 297445444, 'node_id': 'MDExOlB1bGxSZXF1ZXN0Mjk3NDQ1NDQ0', 'html_url': 'https://github.com/nextcloud/tasks/pull/502', 'diff_url': 'https://github.com/nextcloud/tasks/pull/502.diff', 'patch_url': 'https://github.com/nextcloud/tasks/pull/502.patch', 'issue_url': 'https://api.github.com/repos/nextcloud/tasks/issues/502', 'number': 502, 'state': 'closed', 'locked': False, 'title': 'Bump linkify-it from 2.1.0 to 2.2.0', 'user': {'login': 'dependabot-preview[bot]', 'id': 27856297, 'node_id': 'MDM6Qm90Mjc4NTYyOTc=', 'avatar_url': 'https://avatars3.githubusercontent.com/in/2141?v=4', 'gravatar_id': '', 'url': 'https://api.github.com/users/dependabot-preview%5Bbot%5D', 'html_url': 'https://github.com/apps/dependabot-preview', 'followers_url': 'https://api.github.com/users/dependabot-preview%5Bbot%5D/followers', 'following_url': 'https://api.github.com/users/dependabot-preview%5Bbot%5D/following{/other_user}', 'gists_url': 'https://api.github.com/users/dependabot-preview%5Bbot%5D/gists{/gist_id}', 'starred_url': 'https://api.github.com/users/dependabot-preview%5Bbot%5D/starred{/owner}{/repo}', 'subscriptions_url': 'https://api.github.com/users/dependabot-preview%5Bbot%5D/subscriptions', 'organizations_url': 'https://api.github.com/users/dependabot-preview%5Bbot%5D/orgs', 'repos_url': 'https://api.github.com/users/dependabot-preview%5Bbot%5D/repos', 'events_url': 'https://api.github.com/users/dependabot-preview%5Bbot%5D/events{/privacy}', 'received_events_url': 'https://api.github.com/users/dependabot-preview%5Bbot%5D/received_events', 'type': 'Bot', 'site_admin': False}, 'body': 'Bumps [linkify-it](https://github.com/markdown-it/linkify-it) from 2.1.0 to 2.2.0.\\n<details>\\n<summary>Changelog</summary>\\n\\n*Sourced from [linkify-it\\'s changelog](https://github.com/markdown-it/linkify-it/blob/master/CHANGELOG.md).*\\n\\n> 2.2.0 / 2019-07-12\\n> ------------------\\n> \\n> - Improved quoted email detect (disable `\"` at email start), [#72](https://github-redirect.dependabot.com/markdown-it/linkify-it/issues/72).\\n> - Fix some google links (allow more consecutive `.`), [#66](https://github-redirect.dependabot.com/markdown-it/linkify-it/issues/66).\\n</details>\\n<details>\\n<summary>Commits</summary>\\n\\n- [`6f3c949`](https://github.com/markdown-it/linkify-it/commit/6f3c94916a5e1bd9a246cb7166ec3ee6adbde6bb) 2.2.0 released\\n- [`59a2ba5`](https://github.com/markdown-it/linkify-it/commit/59a2ba5430e386672bba0aaa542940d272a5b4c7) Allow 4 consecutive dots in some links\\n- [`4326cd1`](https://github.com/markdown-it/linkify-it/commit/4326cd1ef9d5167624c08c790bb2ea61654192e2) Do not treat starting quote as part of email\\n- [`8b4434d`](https://github.com/markdown-it/linkify-it/commit/8b4434d9f7c87b020c17d278e312bee591fab48d) Merge pull request [#75](https://github-redirect.dependabot.com/markdown-it/linkify-it/issues/75) from jdreesen/patch-1\\n- [`0c29092`](https://github.com/markdown-it/linkify-it/commit/0c290925115afb9b468380ae5868d7e7dbd53393) Fix typo\\n- See full diff in [compare view](https://github.com/markdown-it/linkify-it/compare/2.1.0...2.2.0)\\n</details>\\n<br />\\n\\n[![Dependabot compatibility score](https://api.dependabot.com/badges/compatibility_score?dependency-name=linkify-it&package-manager=npm_and_yarn&previous-version=2.1.0&new-version=2.2.0)](https://dependabot.com/compatibility-score.html?dependency-name=linkify-it&package-manager=npm_and_yarn&previous-version=2.1.0&new-version=2.2.0)\\n\\nDependabot will resolve any conflicts with this PR as long as you don\\'t alter it yourself. You can also trigger a rebase manually by commenting `@dependabot rebase`.\\n\\n[//]: # (dependabot-automerge-start)\\n[//]: # (dependabot-automerge-end)\\n\\n---\\n\\n<details>\\n<summary>Dependabot commands and options</summary>\\n<br />\\n\\nYou can trigger Dependabot actions by commenting on this PR:\\n- `@dependabot rebase` will rebase this PR\\n- `@dependabot recreate` will recreate this PR, overwriting any edits that have been made to it\\n- `@dependabot merge` will merge this PR after your CI passes on it\\n- `@dependabot squash and merge` will squash and merge this PR after your CI passes on it\\n- `@dependabot cancel merge` will cancel a previously requested merge and block automerging\\n- `@dependabot reopen` will reopen this PR if it is closed\\n- `@dependabot ignore this [patch|minor|major] version` will close this PR and stop Dependabot creating any more for this minor/major version (unless you reopen the PR or upgrade to it). To ignore the version in this PR you can just close it\\n- `@dependabot ignore this dependency` will close this PR and stop Dependabot creating any more for this dependency (unless you reopen the PR or upgrade to it yourself)\\n- `@dependabot use these labels` will set the current labels as the default for future PRs for this repo and language\\n- `@dependabot use these reviewers` will set the current reviewers as the default for future PRs for this repo and language\\n- `@dependabot use these assignees` will set the current assignees as the default for future PRs for this repo and language\\n- `@dependabot use this milestone` will set the current milestone as the default for future PRs for this repo and language\\n- `@dependabot badge me` will comment on this PR with code to add a \"Dependabot enabled\" badge to your readme\\n\\nAdditionally, you can set the following in your Dependabot [dashboard](https://app.dependabot.com):\\n- Update frequency (including time of day and day of week)\\n- Automerge options (never/patch/minor, and dev/runtime dependencies)\\n- Pull request limits (per update run and/or open at any time)\\n- Out-of-range updates (receive only lockfile updates, if desired)\\n- Security updates (receive only security updates, if desired)\\n\\nFinally, you can contact us by mentioning @dependabot.\\n\\n</details>', 'created_at': '2019-07-15T01:28:01Z', 'updated_at': '2019-07-15T06:54:17Z', 'closed_at': '2019-07-15T06:54:17Z', 'merged_at': '2019-07-15T06:54:17Z', 'merge_commit_sha': 'bacef619ec1cb90a8858fcb45ef6757fcb8cf0f8', 'assignee': None, 'assignees': [], 'requested_reviewers': [], 'requested_teams': [], 'labels': [{'id': 1210616588, 'node_id': 'MDU6TGFiZWwxMjEwNjE2NTg4', 'url': 'https://api.github.com/repos/nextcloud/tasks/labels/dependencies', 'name': 'dependencies', 'color': '0025ff', 'default': False}], 'milestone': None, 'commits_url': 'https://api.github.com/repos/nextcloud/tasks/pulls/502/commits', 'review_comments_url': 'https://api.github.com/repos/nextcloud/tasks/pulls/502/comments', 'review_comment_url': 'https://api.github.com/repos/nextcloud/tasks/pulls/comments{/number}', 'comments_url': 'https://api.github.com/repos/nextcloud/tasks/issues/502/comments', 'statuses_url': 'https://api.github.com/repos/nextcloud/tasks/statuses/efdf97f7fcdb938f16f89a74da313460557f68c5', 'head': {'label': 'nextcloud:dependabot/npm_and_yarn/linkify-it-2.2.0', 'ref': 'dependabot/npm_and_yarn/linkify-it-2.2.0', 'sha': 'efdf97f7fcdb938f16f89a74da313460557f68c5', 'user': {'login': 'nextcloud', 'id': 19211038, 'node_id': 'MDEyOk9yZ2FuaXphdGlvbjE5MjExMDM4', 'avatar_url': 'https://avatars1.githubusercontent.com/u/19211038?v=4', 'gravatar_id': '', 'url': 'https://api.github.com/users/nextcloud', 'html_url': 'https://github.com/nextcloud', 'followers_url': 'https://api.github.com/users/nextcloud/followers', 'following_url': 'https://api.github.com/users/nextcloud/following{/other_user}', 'gists_url': 'https://api.github.com/users/nextcloud/gists{/gist_id}', 'starred_url': 'https://api.github.com/users/nextcloud/starred{/owner}{/repo}', 'subscriptions_url': 'https://api.github.com/users/nextcloud/subscriptions', 'organizations_url': 'https://api.github.com/users/nextcloud/orgs', 'repos_url': 'https://api.github.com/users/nextcloud/repos', 'events_url': 'https://api.github.com/users/nextcloud/events{/privacy}', 'received_events_url': 'https://api.github.com/users/nextcloud/received_events', 'type': 'Organization', 'site_admin': False}, 'repo': {'id': 71471849, 'node_id': 'MDEwOlJlcG9zaXRvcnk3MTQ3MTg0OQ==', 'name': 'tasks', 'full_name': 'nextcloud/tasks', 'private': False, 'owner': {'login': 'nextcloud', 'id': 19211038, 'node_id': 'MDEyOk9yZ2FuaXphdGlvbjE5MjExMDM4', 'avatar_url': 'https://avatars1.githubusercontent.com/u/19211038?v=4', 'gravatar_id': '', 'url': 'https://api.github.com/users/nextcloud', 'html_url': 'https://github.com/nextcloud', 'followers_url': 'https://api.github.com/users/nextcloud/followers', 'following_url': 'https://api.github.com/users/nextcloud/following{/other_user}', 'gists_url': 'https://api.github.com/users/nextcloud/gists{/gist_id}', 'starred_url': 'https://api.github.com/users/nextcloud/starred{/owner}{/repo}', 'subscriptions_url': 'https://api.github.com/users/nextcloud/subscriptions', 'organizations_url': 'https://api.github.com/users/nextcloud/orgs', 'repos_url': 'https://api.github.com/users/nextcloud/repos', 'events_url': 'https://api.github.com/users/nextcloud/events{/privacy}', 'received_events_url': 'https://api.github.com/users/nextcloud/received_events', 'type': 'Organization', 'site_admin': False}, 'html_url': 'https://github.com/nextcloud/tasks', 'description': ':white_check_mark: Tasks app for Nextcloud', 'fork': False, 'url': 'https://api.github.com/repos/nextcloud/tasks', 'forks_url': 'https://api.github.com/repos/nextcloud/tasks/forks', 'keys_url': 'https://api.github.com/repos/nextcloud/tasks/keys{/key_id}', 'collaborators_url': 'https://api.github.com/repos/nextcloud/tasks/collaborators{/collaborator}', 'teams_url': 'https://api.github.com/repos/nextcloud/tasks/teams', 'hooks_url': 'https://api.github.com/repos/nextcloud/tasks/hooks', 'issue_events_url': 'https://api.github.com/repos/nextcloud/tasks/issues/events{/number}', 'events_url': 'https://api.github.com/repos/nextcloud/tasks/events', 'assignees_url': 'https://api.github.com/repos/nextcloud/tasks/assignees{/user}', 'branches_url': 'https://api.github.com/repos/nextcloud/tasks/branches{/branch}', 'tags_url': 'https://api.github.com/repos/nextcloud/tasks/tags', 'blobs_url': 'https://api.github.com/repos/nextcloud/tasks/git/blobs{/sha}', 'git_tags_url': 'https://api.github.com/repos/nextcloud/tasks/git/tags{/sha}', 'git_refs_url': 'https://api.github.com/repos/nextcloud/tasks/git/refs{/sha}', 'trees_url': 'https://api.github.com/repos/nextcloud/tasks/git/trees{/sha}', 'statuses_url': 'https://api.github.com/repos/nextcloud/tasks/statuses/{sha}', 'languages_url': 'https://api.github.com/repos/nextcloud/tasks/languages', 'stargazers_url': 'https://api.github.com/repos/nextcloud/tasks/stargazers', 'contributors_url': 'https://api.github.com/repos/nextcloud/tasks/contributors', 'subscribers_url': 'https://api.github.com/repos/nextcloud/tasks/subscribers', 'subscription_url': 'https://api.github.com/repos/nextcloud/tasks/subscription', 'commits_url': 'https://api.github.com/repos/nextcloud/tasks/commits{/sha}', 'git_commits_url': 'https://api.github.com/repos/nextcloud/tasks/git/commits{/sha}', 'comments_url': 'https://api.github.com/repos/nextcloud/tasks/comments{/number}', 'issue_comment_url': 'https://api.github.com/repos/nextcloud/tasks/issues/comments{/number}', 'contents_url': 'https://api.github.com/repos/nextcloud/tasks/contents/{+path}', 'compare_url': 'https://api.github.com/repos/nextcloud/tasks/compare/{base}...{head}', 'merges_url': 'https://api.github.com/repos/nextcloud/tasks/merges', 'archive_url': 'https://api.github.com/repos/nextcloud/tasks/{archive_format}{/ref}', 'downloads_url': 'https://api.github.com/repos/nextcloud/tasks/downloads', 'issues_url': 'https://api.github.com/repos/nextcloud/tasks/issues{/number}', 'pulls_url': 'https://api.github.com/repos/nextcloud/tasks/pulls{/number}', 'milestones_url': 'https://api.github.com/repos/nextcloud/tasks/milestones{/number}', 'notifications_url': 'https://api.github.com/repos/nextcloud/tasks/notifications{?since,all,participating}', 'labels_url': 'https://api.github.com/repos/nextcloud/tasks/labels{/name}', 'releases_url': 'https://api.github.com/repos/nextcloud/tasks/releases{/id}', 'deployments_url': 'https://api.github.com/repos/nextcloud/tasks/deployments', 'created_at': '2016-10-20T14:34:14Z', 'updated_at': '2019-07-15T06:53:50Z', 'pushed_at': '2019-07-15T06:54:17Z', 'git_url': 'git://github.com/nextcloud/tasks.git', 'ssh_url': 'git@github.com:nextcloud/tasks.git', 'clone_url': 'https://github.com/nextcloud/tasks.git', 'svn_url': 'https://github.com/nextcloud/tasks', 'homepage': 'https://apps.nextcloud.com/apps/tasks', 'size': 11724, 'stargazers_count': 184, 'watchers_count': 184, 'language': 'JavaScript', 'has_issues': True, 'has_projects': True, 'has_downloads': True, 'has_wiki': False, 'has_pages': False, 'forks_count': 41, 'mirror_url': None, 'archived': False, 'disabled': False, 'open_issues_count': 48, 'license': {'key': 'agpl-3.0', 'name': 'GNU Affero General Public License v3.0', 'spdx_id': 'AGPL-3.0', 'url': 'https://api.github.com/licenses/agpl-3.0', 'node_id': 'MDc6TGljZW5zZTE='}, 'forks': 41, 'open_issues': 48, 'watchers': 184, 'default_branch': 'master'}}, 'base': {'label': 'nextcloud:master', 'ref': 'master', 'sha': 'fa1ff4e2d21103d2e33bb58c36959fa8d225215c', 'user': {'login': 'nextcloud', 'id': 19211038, 'node_id': 'MDEyOk9yZ2FuaXphdGlvbjE5MjExMDM4', 'avatar_url': 'https://avatars1.githubusercontent.com/u/19211038?v=4', 'gravatar_id': '', 'url': 'https://api.github.com/users/nextcloud', 'html_url': 'https://github.com/nextcloud', 'followers_url': 'https://api.github.com/users/nextcloud/followers', 'following_url': 'https://api.github.com/users/nextcloud/following{/other_user}', 'gists_url': 'https://api.github.com/users/nextcloud/gists{/gist_id}', 'starred_url': 'https://api.github.com/users/nextcloud/starred{/owner}{/repo}', 'subscriptions_url': 'https://api.github.com/users/nextcloud/subscriptions', 'organizations_url': 'https://api.github.com/users/nextcloud/orgs', 'repos_url': 'https://api.github.com/users/nextcloud/repos', 'events_url': 'https://api.github.com/users/nextcloud/events{/privacy}', 'received_events_url': 'https://api.github.com/users/nextcloud/received_events', 'type': 'Organization', 'site_admin': False}, 'repo': {'id': 71471849, 'node_id': 'MDEwOlJlcG9zaXRvcnk3MTQ3MTg0OQ==', 'name': 'tasks', 'full_name': 'nextcloud/tasks', 'private': False, 'owner': {'login': 'nextcloud', 'id': 19211038, 'node_id': 'MDEyOk9yZ2FuaXphdGlvbjE5MjExMDM4', 'avatar_url': 'https://avatars1.githubusercontent.com/u/19211038?v=4', 'gravatar_id': '', 'url': 'https://api.github.com/users/nextcloud', 'html_url': 'https://github.com/nextcloud', 'followers_url': 'https://api.github.com/users/nextcloud/followers', 'following_url': 'https://api.github.com/users/nextcloud/following{/other_user}', 'gists_url': 'https://api.github.com/users/nextcloud/gists{/gist_id}', 'starred_url': 'https://api.github.com/users/nextcloud/starred{/owner}{/repo}', 'subscriptions_url': 'https://api.github.com/users/nextcloud/subscriptions', 'organizations_url': 'https://api.github.com/users/nextcloud/orgs', 'repos_url': 'https://api.github.com/users/nextcloud/repos', 'events_url': 'https://api.github.com/users/nextcloud/events{/privacy}', 'received_events_url': 'https://api.github.com/users/nextcloud/received_events', 'type': 'Organization', 'site_admin': False}, 'html_url': 'https://github.com/nextcloud/tasks', 'description': ':white_check_mark: Tasks app for Nextcloud', 'fork': False, 'url': 'https://api.github.com/repos/nextcloud/tasks', 'forks_url': 'https://api.github.com/repos/nextcloud/tasks/forks', 'keys_url': 'https://api.github.com/repos/nextcloud/tasks/keys{/key_id}', 'collaborators_url': 'https://api.github.com/repos/nextcloud/tasks/collaborators{/collaborator}', 'teams_url': 'https://api.github.com/repos/nextcloud/tasks/teams', 'hooks_url': 'https://api.github.com/repos/nextcloud/tasks/hooks', 'issue_events_url': 'https://api.github.com/repos/nextcloud/tasks/issues/events{/number}', 'events_url': 'https://api.github.com/repos/nextcloud/tasks/events', 'assignees_url': 'https://api.github.com/repos/nextcloud/tasks/assignees{/user}', 'branches_url': 'https://api.github.com/repos/nextcloud/tasks/branches{/branch}', 'tags_url': 'https://api.github.com/repos/nextcloud/tasks/tags', 'blobs_url': 'https://api.github.com/repos/nextcloud/tasks/git/blobs{/sha}', 'git_tags_url': 'https://api.github.com/repos/nextcloud/tasks/git/tags{/sha}', 'git_refs_url': 'https://api.github.com/repos/nextcloud/tasks/git/refs{/sha}', 'trees_url': 'https://api.github.com/repos/nextcloud/tasks/git/trees{/sha}', 'statuses_url': 'https://api.github.com/repos/nextcloud/tasks/statuses/{sha}', 'languages_url': 'https://api.github.com/repos/nextcloud/tasks/languages', 'stargazers_url': 'https://api.github.com/repos/nextcloud/tasks/stargazers', 'contributors_url': 'https://api.github.com/repos/nextcloud/tasks/contributors', 'subscribers_url': 'https://api.github.com/repos/nextcloud/tasks/subscribers', 'subscription_url': 'https://api.github.com/repos/nextcloud/tasks/subscription', 'commits_url': 'https://api.github.com/repos/nextcloud/tasks/commits{/sha}', 'git_commits_url': 'https://api.github.com/repos/nextcloud/tasks/git/commits{/sha}', 'comments_url': 'https://api.github.com/repos/nextcloud/tasks/comments{/number}', 'issue_comment_url': 'https://api.github.com/repos/nextcloud/tasks/issues/comments{/number}', 'contents_url': 'https://api.github.com/repos/nextcloud/tasks/contents/{+path}', 'compare_url': 'https://api.github.com/repos/nextcloud/tasks/compare/{base}...{head}', 'merges_url': 'https://api.github.com/repos/nextcloud/tasks/merges', 'archive_url': 'https://api.github.com/repos/nextcloud/tasks/{archive_format}{/ref}', 'downloads_url': 'https://api.github.com/repos/nextcloud/tasks/downloads', 'issues_url': 'https://api.github.com/repos/nextcloud/tasks/issues{/number}', 'pulls_url': 'https://api.github.com/repos/nextcloud/tasks/pulls{/number}', 'milestones_url': 'https://api.github.com/repos/nextcloud/tasks/milestones{/number}', 'notifications_url': 'https://api.github.com/repos/nextcloud/tasks/notifications{?since,all,participating}', 'labels_url': 'https://api.github.com/repos/nextcloud/tasks/labels{/name}', 'releases_url': 'https://api.github.com/repos/nextcloud/tasks/releases{/id}', 'deployments_url': 'https://api.github.com/repos/nextcloud/tasks/deployments', 'created_at': '2016-10-20T14:34:14Z', 'updated_at': '2019-07-15T06:53:50Z', 'pushed_at': '2019-07-15T06:54:17Z', 'git_url': 'git://github.com/nextcloud/tasks.git', 'ssh_url': 'git@github.com:nextcloud/tasks.git', 'clone_url': 'https://github.com/nextcloud/tasks.git', 'svn_url': 'https://github.com/nextcloud/tasks', 'homepage': 'https://apps.nextcloud.com/apps/tasks', 'size': 11724, 'stargazers_count': 184, 'watchers_count': 184, 'language': 'JavaScript', 'has_issues': True, 'has_projects': True, 'has_downloads': True, 'has_wiki': False, 'has_pages': False, 'forks_count': 41, 'mirror_url': None, 'archived': False, 'disabled': False, 'open_issues_count': 48, 'license': {'key': 'agpl-3.0', 'name': 'GNU Affero General Public License v3.0', 'spdx_id': 'AGPL-3.0', 'url': 'https://api.github.com/licenses/agpl-3.0', 'node_id': 'MDc6TGljZW5zZTE='}, 'forks': 41, 'open_issues': 48, 'watchers': 184, 'default_branch': 'master'}}, '_links': {'self': {'href': 'https://api.github.com/repos/nextcloud/tasks/pulls/502'}, 'html': {'href': 'https://github.com/nextcloud/tasks/pull/502'}, 'issue': {'href': 'https://api.github.com/repos/nextcloud/tasks/issues/502'}, 'comments': {'href': 'https://api.github.com/repos/nextcloud/tasks/issues/502/comments'}, 'review_comments': {'href': 'https://api.github.com/repos/nextcloud/tasks/pulls/502/comments'}, 'review_comment': {'href': 'https://api.github.com/repos/nextcloud/tasks/pulls/comments{/number}'}, 'commits': {'href': 'https://api.github.com/repos/nextcloud/tasks/pulls/502/commits'}, 'statuses': {'href': 'https://api.github.com/repos/nextcloud/tasks/statuses/efdf97f7fcdb938f16f89a74da313460557f68c5'}}, 'author_association': 'CONTRIBUTOR', 'merged': True, 'mergeable': None, 'rebaseable': None, 'mergeable_state': 'unknown', 'merged_by': {'login': 'dependabot-preview[bot]', 'id': 27856297, 'node_id': 'MDM6Qm90Mjc4NTYyOTc=', 'avatar_url': 'https://avatars3.githubusercontent.com/in/2141?v=4', 'gravatar_id': '', 'url': 'https://api.github.com/users/dependabot-preview%5Bbot%5D', 'html_url': 'https://github.com/apps/dependabot-preview', 'followers_url': 'https://api.github.com/users/dependabot-preview%5Bbot%5D/followers', 'following_url': 'https://api.github.com/users/dependabot-preview%5Bbot%5D/following{/other_user}', 'gists_url': 'https://api.github.com/users/dependabot-preview%5Bbot%5D/gists{/gist_id}', 'starred_url': 'https://api.github.com/users/dependabot-preview%5Bbot%5D/starred{/owner}{/repo}', 'subscriptions_url': 'https://api.github.com/users/dependabot-preview%5Bbot%5D/subscriptions', 'organizations_url': 'https://api.github.com/users/dependabot-preview%5Bbot%5D/orgs', 'repos_url': 'https://api.github.com/users/dependabot-preview%5Bbot%5D/repos', 'events_url': 'https://api.github.com/users/dependabot-preview%5Bbot%5D/events{/privacy}', 'received_events_url': 'https://api.github.com/users/dependabot-preview%5Bbot%5D/received_events', 'type': 'Bot', 'site_admin': False}, 'comments': 0, 'review_comments': 0, 'maintainer_can_modify': False, 'commits': 1, 'additions': 4, 'deletions': 4, 'changed_files': 2}}, 'public': True, 'created_at': '2019-07-15T06:54:18Z', 'org': {'id': 19211038, 'login': 'nextcloud', 'gravatar_id': '', 'url': 'https://api.github.com/orgs/nextcloud', 'avatar_url': 'https://avatars.githubusercontent.com/u/19211038?'}}, {'id': '10010089535', 'type': 'PushEvent', 'actor': {'id': 21289074, 'login': 'MikuGhoul', 'display_login': 'MikuGhoul', 'gravatar_id': '', 'url': 'https://api.github.com/users/MikuGhoul', 'avatar_url': 'https://avatars.githubusercontent.com/u/21289074?'}, 'repo': {'id': 111918248, 'name': 'MikuGhoul/vimrc', 'url': 'https://api.github.com/repos/MikuGhoul/vimrc'}, 'payload': {'push_id': 3816299002, 'size': 1, 'distinct_size': 1, 'ref': 'refs/heads/master', 'head': '9a3f4f52ce77daf1d524709d5364e9179b26f870', 'before': 'dfdce8bef679c753beee6524ffff5cdef5edab51', 'commits': [{'sha': '9a3f4f52ce77daf1d524709d5364e9179b26f870', 'author': {'email': 'mikughoull@gmail.com', 'name': 'MikuGhoul'}, 'message': 'change vim colorscheme for Centos terminal', 'distinct': True, 'url': 'https://api.github.com/repos/MikuGhoul/vimrc/commits/9a3f4f52ce77daf1d524709d5364e9179b26f870'}]}, 'public': True, 'created_at': '2019-07-15T06:54:18Z'}, {'id': '10010089527', 'type': 'PullRequestEvent', 'actor': {'id': 51440729, 'login': 'xhj123456', 'display_login': 'xhj123456', 'gravatar_id': '', 'url': 'https://api.github.com/users/xhj123456', 'avatar_url': 'https://avatars.githubusercontent.com/u/51440729?'}, 'repo': {'id': 190554722, 'name': 'xhj123456/javaspring', 'url': 'https://api.github.com/repos/xhj123456/javaspring'}, 'payload': {'action': 'closed', 'number': 1, 'pull_request': {'url': 'https://api.github.com/repos/xhj123456/javaspring/pulls/1', 'id': 297489486, 'node_id': 'MDExOlB1bGxSZXF1ZXN0Mjk3NDg5NDg2', 'html_url': 'https://github.com/xhj123456/javaspring/pull/1', 'diff_url': 'https://github.com/xhj123456/javaspring/pull/1.diff', 'patch_url': 'https://github.com/xhj123456/javaspring/pull/1.patch', 'issue_url': 'https://api.github.com/repos/xhj123456/javaspring/issues/1', 'number': 1, 'state': 'closed', 'locked': False, 'title': 'ss', 'user': {'login': 'xhj123456', 'id': 51440729, 'node_id': 'MDQ6VXNlcjUxNDQwNzI5', 'avatar_url': 'https://avatars2.githubusercontent.com/u/51440729?v=4', 'gravatar_id': '', 'url': 'https://api.github.com/users/xhj123456', 'html_url': 'https://github.com/xhj123456', 'followers_url': 'https://api.github.com/users/xhj123456/followers', 'following_url': 'https://api.github.com/users/xhj123456/following{/other_user}', 'gists_url': 'https://api.github.com/users/xhj123456/gists{/gist_id}', 'starred_url': 'https://api.github.com/users/xhj123456/starred{/owner}{/repo}', 'subscriptions_url': 'https://api.github.com/users/xhj123456/subscriptions', 'organizations_url': 'https://api.github.com/users/xhj123456/orgs', 'repos_url': 'https://api.github.com/users/xhj123456/repos', 'events_url': 'https://api.github.com/users/xhj123456/events{/privacy}', 'received_events_url': 'https://api.github.com/users/xhj123456/received_events', 'type': 'User', 'site_admin': False}, 'body': '', 'created_at': '2019-07-15T06:50:42Z', 'updated_at': '2019-07-15T06:54:17Z', 'closed_at': '2019-07-15T06:54:17Z', 'merged_at': '2019-07-15T06:54:17Z', 'merge_commit_sha': 'c513d53d13eab934d3319297517ccb35ab7af27c', 'assignee': None, 'assignees': [], 'requested_reviewers': [], 'requested_teams': [], 'labels': [], 'milestone': None, 'commits_url': 'https://api.github.com/repos/xhj123456/javaspring/pulls/1/commits', 'review_comments_url': 'https://api.github.com/repos/xhj123456/javaspring/pulls/1/comments', 'review_comment_url': 'https://api.github.com/repos/xhj123456/javaspring/pulls/comments{/number}', 'comments_url': 'https://api.github.com/repos/xhj123456/javaspring/issues/1/comments', 'statuses_url': 'https://api.github.com/repos/xhj123456/javaspring/statuses/f84a9d40167bbf6ff623909ed9989f85ccde0301', 'head': {'label': 'xhj123456:ddd', 'ref': 'ddd', 'sha': 'f84a9d40167bbf6ff623909ed9989f85ccde0301', 'user': {'login': 'xhj123456', 'id': 51440729, 'node_id': 'MDQ6VXNlcjUxNDQwNzI5', 'avatar_url': 'https://avatars2.githubusercontent.com/u/51440729?v=4', 'gravatar_id': '', 'url': 'https://api.github.com/users/xhj123456', 'html_url': 'https://github.com/xhj123456', 'followers_url': 'https://api.github.com/users/xhj123456/followers', 'following_url': 'https://api.github.com/users/xhj123456/following{/other_user}', 'gists_url': 'https://api.github.com/users/xhj123456/gists{/gist_id}', 'starred_url': 'https://api.github.com/users/xhj123456/starred{/owner}{/repo}', 'subscriptions_url': 'https://api.github.com/users/xhj123456/subscriptions', 'organizations_url': 'https://api.github.com/users/xhj123456/orgs', 'repos_url': 'https://api.github.com/users/xhj123456/repos', 'events_url': 'https://api.github.com/users/xhj123456/events{/privacy}', 'received_events_url': 'https://api.github.com/users/xhj123456/received_events', 'type': 'User', 'site_admin': False}, 'repo': {'id': 190554722, 'node_id': 'MDEwOlJlcG9zaXRvcnkxOTA1NTQ3MjI=', 'name': 'javaspring', 'full_name': 'xhj123456/javaspring', 'private': False, 'owner': {'login': 'xhj123456', 'id': 51440729, 'node_id': 'MDQ6VXNlcjUxNDQwNzI5', 'avatar_url': 'https://avatars2.githubusercontent.com/u/51440729?v=4', 'gravatar_id': '', 'url': 'https://api.github.com/users/xhj123456', 'html_url': 'https://github.com/xhj123456', 'followers_url': 'https://api.github.com/users/xhj123456/followers', 'following_url': 'https://api.github.com/users/xhj123456/following{/other_user}', 'gists_url': 'https://api.github.com/users/xhj123456/gists{/gist_id}', 'starred_url': 'https://api.github.com/users/xhj123456/starred{/owner}{/repo}', 'subscriptions_url': 'https://api.github.com/users/xhj123456/subscriptions', 'organizations_url': 'https://api.github.com/users/xhj123456/orgs', 'repos_url': 'https://api.github.com/users/xhj123456/repos', 'events_url': 'https://api.github.com/users/xhj123456/events{/privacy}', 'received_events_url': 'https://api.github.com/users/xhj123456/received_events', 'type': 'User', 'site_admin': False}, 'html_url': 'https://github.com/xhj123456/javaspring', 'description': None, 'fork': False, 'url': 'https://api.github.com/repos/xhj123456/javaspring', 'forks_url': 'https://api.github.com/repos/xhj123456/javaspring/forks', 'keys_url': 'https://api.github.com/repos/xhj123456/javaspring/keys{/key_id}', 'collaborators_url': 'https://api.github.com/repos/xhj123456/javaspring/collaborators{/collaborator}', 'teams_url': 'https://api.github.com/repos/xhj123456/javaspring/teams', 'hooks_url': 'https://api.github.com/repos/xhj123456/javaspring/hooks', 'issue_events_url': 'https://api.github.com/repos/xhj123456/javaspring/issues/events{/number}', 'events_url': 'https://api.github.com/repos/xhj123456/javaspring/events', 'assignees_url': 'https://api.github.com/repos/xhj123456/javaspring/assignees{/user}', 'branches_url': 'https://api.github.com/repos/xhj123456/javaspring/branches{/branch}', 'tags_url': 'https://api.github.com/repos/xhj123456/javaspring/tags', 'blobs_url': 'https://api.github.com/repos/xhj123456/javaspring/git/blobs{/sha}', 'git_tags_url': 'https://api.github.com/repos/xhj123456/javaspring/git/tags{/sha}', 'git_refs_url': 'https://api.github.com/repos/xhj123456/javaspring/git/refs{/sha}', 'trees_url': 'https://api.github.com/repos/xhj123456/javaspring/git/trees{/sha}', 'statuses_url': 'https://api.github.com/repos/xhj123456/javaspring/statuses/{sha}', 'languages_url': 'https://api.github.com/repos/xhj123456/javaspring/languages', 'stargazers_url': 'https://api.github.com/repos/xhj123456/javaspring/stargazers', 'contributors_url': 'https://api.github.com/repos/xhj123456/javaspring/contributors', 'subscribers_url': 'https://api.github.com/repos/xhj123456/javaspring/subscribers', 'subscription_url': 'https://api.github.com/repos/xhj123456/javaspring/subscription', 'commits_url': 'https://api.github.com/repos/xhj123456/javaspring/commits{/sha}', 'git_commits_url': 'https://api.github.com/repos/xhj123456/javaspring/git/commits{/sha}', 'comments_url': 'https://api.github.com/repos/xhj123456/javaspring/comments{/number}', 'issue_comment_url': 'https://api.github.com/repos/xhj123456/javaspring/issues/comments{/number}', 'contents_url': 'https://api.github.com/repos/xhj123456/javaspring/contents/{+path}', 'compare_url': 'https://api.github.com/repos/xhj123456/javaspring/compare/{base}...{head}', 'merges_url': 'https://api.github.com/repos/xhj123456/javaspring/merges', 'archive_url': 'https://api.github.com/repos/xhj123456/javaspring/{archive_format}{/ref}', 'downloads_url': 'https://api.github.com/repos/xhj123456/javaspring/downloads', 'issues_url': 'https://api.github.com/repos/xhj123456/javaspring/issues{/number}', 'pulls_url': 'https://api.github.com/repos/xhj123456/javaspring/pulls{/number}', 'milestones_url': 'https://api.github.com/repos/xhj123456/javaspring/milestones{/number}', 'notifications_url': 'https://api.github.com/repos/xhj123456/javaspring/notifications{?since,all,participating}', 'labels_url': 'https://api.github.com/repos/xhj123456/javaspring/labels{/name}', 'releases_url': 'https://api.github.com/repos/xhj123456/javaspring/releases{/id}', 'deployments_url': 'https://api.github.com/repos/xhj123456/javaspring/deployments', 'created_at': '2019-06-06T09:31:05Z', 'updated_at': '2019-07-05T10:15:49Z', 'pushed_at': '2019-07-15T06:54:17Z', 'git_url': 'git://github.com/xhj123456/javaspring.git', 'ssh_url': 'git@github.com:xhj123456/javaspring.git', 'clone_url': 'https://github.com/xhj123456/javaspring.git', 'svn_url': 'https://github.com/xhj123456/javaspring', 'homepage': None, 'size': 3745, 'stargazers_count': 0, 'watchers_count': 0, 'language': 'HTML', 'has_issues': True, 'has_projects': True, 'has_downloads': True, 'has_wiki': True, 'has_pages': False, 'forks_count': 0, 'mirror_url': None, 'archived': False, 'disabled': False, 'open_issues_count': 0, 'license': None, 'forks': 0, 'open_issues': 0, 'watchers': 0, 'default_branch': 'master'}}, 'base': {'label': 'xhj123456:master', 'ref': 'master', 'sha': '0b8174781fd284558005aaab209f33d1d9c4dbf1', 'user': {'login': 'xhj123456', 'id': 51440729, 'node_id': 'MDQ6VXNlcjUxNDQwNzI5', 'avatar_url': 'https://avatars2.githubusercontent.com/u/51440729?v=4', 'gravatar_id': '', 'url': 'https://api.github.com/users/xhj123456', 'html_url': 'https://github.com/xhj123456', 'followers_url': 'https://api.github.com/users/xhj123456/followers', 'following_url': 'https://api.github.com/users/xhj123456/following{/other_user}', 'gists_url': 'https://api.github.com/users/xhj123456/gists{/gist_id}', 'starred_url': 'https://api.github.com/users/xhj123456/starred{/owner}{/repo}', 'subscriptions_url': 'https://api.github.com/users/xhj123456/subscriptions', 'organizations_url': 'https://api.github.com/users/xhj123456/orgs', 'repos_url': 'https://api.github.com/users/xhj123456/repos', 'events_url': 'https://api.github.com/users/xhj123456/events{/privacy}', 'received_events_url': 'https://api.github.com/users/xhj123456/received_events', 'type': 'User', 'site_admin': False}, 'repo': {'id': 190554722, 'node_id': 'MDEwOlJlcG9zaXRvcnkxOTA1NTQ3MjI=', 'name': 'javaspring', 'full_name': 'xhj123456/javaspring', 'private': False, 'owner': {'login': 'xhj123456', 'id': 51440729, 'node_id': 'MDQ6VXNlcjUxNDQwNzI5', 'avatar_url': 'https://avatars2.githubusercontent.com/u/51440729?v=4', 'gravatar_id': '', 'url': 'https://api.github.com/users/xhj123456', 'html_url': 'https://github.com/xhj123456', 'followers_url': 'https://api.github.com/users/xhj123456/followers', 'following_url': 'https://api.github.com/users/xhj123456/following{/other_user}', 'gists_url': 'https://api.github.com/users/xhj123456/gists{/gist_id}', 'starred_url': 'https://api.github.com/users/xhj123456/starred{/owner}{/repo}', 'subscriptions_url': 'https://api.github.com/users/xhj123456/subscriptions', 'organizations_url': 'https://api.github.com/users/xhj123456/orgs', 'repos_url': 'https://api.github.com/users/xhj123456/repos', 'events_url': 'https://api.github.com/users/xhj123456/events{/privacy}', 'received_events_url': 'https://api.github.com/users/xhj123456/received_events', 'type': 'User', 'site_admin': False}, 'html_url': 'https://github.com/xhj123456/javaspring', 'description': None, 'fork': False, 'url': 'https://api.github.com/repos/xhj123456/javaspring', 'forks_url': 'https://api.github.com/repos/xhj123456/javaspring/forks', 'keys_url': 'https://api.github.com/repos/xhj123456/javaspring/keys{/key_id}', 'collaborators_url': 'https://api.github.com/repos/xhj123456/javaspring/collaborators{/collaborator}', 'teams_url': 'https://api.github.com/repos/xhj123456/javaspring/teams', 'hooks_url': 'https://api.github.com/repos/xhj123456/javaspring/hooks', 'issue_events_url': 'https://api.github.com/repos/xhj123456/javaspring/issues/events{/number}', 'events_url': 'https://api.github.com/repos/xhj123456/javaspring/events', 'assignees_url': 'https://api.github.com/repos/xhj123456/javaspring/assignees{/user}', 'branches_url': 'https://api.github.com/repos/xhj123456/javaspring/branches{/branch}', 'tags_url': 'https://api.github.com/repos/xhj123456/javaspring/tags', 'blobs_url': 'https://api.github.com/repos/xhj123456/javaspring/git/blobs{/sha}', 'git_tags_url': 'https://api.github.com/repos/xhj123456/javaspring/git/tags{/sha}', 'git_refs_url': 'https://api.github.com/repos/xhj123456/javaspring/git/refs{/sha}', 'trees_url': 'https://api.github.com/repos/xhj123456/javaspring/git/trees{/sha}', 'statuses_url': 'https://api.github.com/repos/xhj123456/javaspring/statuses/{sha}', 'languages_url': 'https://api.github.com/repos/xhj123456/javaspring/languages', 'stargazers_url': 'https://api.github.com/repos/xhj123456/javaspring/stargazers', 'contributors_url': 'https://api.github.com/repos/xhj123456/javaspring/contributors', 'subscribers_url': 'https://api.github.com/repos/xhj123456/javaspring/subscribers', 'subscription_url': 'https://api.github.com/repos/xhj123456/javaspring/subscription', 'commits_url': 'https://api.github.com/repos/xhj123456/javaspring/commits{/sha}', 'git_commits_url': 'https://api.github.com/repos/xhj123456/javaspring/git/commits{/sha}', 'comments_url': 'https://api.github.com/repos/xhj123456/javaspring/comments{/number}', 'issue_comment_url': 'https://api.github.com/repos/xhj123456/javaspring/issues/comments{/number}', 'contents_url': 'https://api.github.com/repos/xhj123456/javaspring/contents/{+path}', 'compare_url': 'https://api.github.com/repos/xhj123456/javaspring/compare/{base}...{head}', 'merges_url': 'https://api.github.com/repos/xhj123456/javaspring/merges', 'archive_url': 'https://api.github.com/repos/xhj123456/javaspring/{archive_format}{/ref}', 'downloads_url': 'https://api.github.com/repos/xhj123456/javaspring/downloads', 'issues_url': 'https://api.github.com/repos/xhj123456/javaspring/issues{/number}', 'pulls_url': 'https://api.github.com/repos/xhj123456/javaspring/pulls{/number}', 'milestones_url': 'https://api.github.com/repos/xhj123456/javaspring/milestones{/number}', 'notifications_url': 'https://api.github.com/repos/xhj123456/javaspring/notifications{?since,all,participating}', 'labels_url': 'https://api.github.com/repos/xhj123456/javaspring/labels{/name}', 'releases_url': 'https://api.github.com/repos/xhj123456/javaspring/releases{/id}', 'deployments_url': 'https://api.github.com/repos/xhj123456/javaspring/deployments', 'created_at': '2019-06-06T09:31:05Z', 'updated_at': '2019-07-05T10:15:49Z', 'pushed_at': '2019-07-15T06:54:17Z', 'git_url': 'git://github.com/xhj123456/javaspring.git', 'ssh_url': 'git@github.com:xhj123456/javaspring.git', 'clone_url': 'https://github.com/xhj123456/javaspring.git', 'svn_url': 'https://github.com/xhj123456/javaspring', 'homepage': None, 'size': 3745, 'stargazers_count': 0, 'watchers_count': 0, 'language': 'HTML', 'has_issues': True, 'has_projects': True, 'has_downloads': True, 'has_wiki': True, 'has_pages': False, 'forks_count': 0, 'mirror_url': None, 'archived': False, 'disabled': False, 'open_issues_count': 0, 'license': None, 'forks': 0, 'open_issues': 0, 'watchers': 0, 'default_branch': 'master'}}, '_links': {'self': {'href': 'https://api.github.com/repos/xhj123456/javaspring/pulls/1'}, 'html': {'href': 'https://github.com/xhj123456/javaspring/pull/1'}, 'issue': {'href': 'https://api.github.com/repos/xhj123456/javaspring/issues/1'}, 'comments': {'href': 'https://api.github.com/repos/xhj123456/javaspring/issues/1/comments'}, 'review_comments': {'href': 'https://api.github.com/repos/xhj123456/javaspring/pulls/1/comments'}, 'review_comment': {'href': 'https://api.github.com/repos/xhj123456/javaspring/pulls/comments{/number}'}, 'commits': {'href': 'https://api.github.com/repos/xhj123456/javaspring/pulls/1/commits'}, 'statuses': {'href': 'https://api.github.com/repos/xhj123456/javaspring/statuses/f84a9d40167bbf6ff623909ed9989f85ccde0301'}}, 'author_association': 'OWNER', 'merged': True, 'mergeable': None, 'rebaseable': None, 'mergeable_state': 'unknown', 'merged_by': {'login': 'xhj123456', 'id': 51440729, 'node_id': 'MDQ6VXNlcjUxNDQwNzI5', 'avatar_url': 'https://avatars2.githubusercontent.com/u/51440729?v=4', 'gravatar_id': '', 'url': 'https://api.github.com/users/xhj123456', 'html_url': 'https://github.com/xhj123456', 'followers_url': 'https://api.github.com/users/xhj123456/followers', 'following_url': 'https://api.github.com/users/xhj123456/following{/other_user}', 'gists_url': 'https://api.github.com/users/xhj123456/gists{/gist_id}', 'starred_url': 'https://api.github.com/users/xhj123456/starred{/owner}{/repo}', 'subscriptions_url': 'https://api.github.com/users/xhj123456/subscriptions', 'organizations_url': 'https://api.github.com/users/xhj123456/orgs', 'repos_url': 'https://api.github.com/users/xhj123456/repos', 'events_url': 'https://api.github.com/users/xhj123456/events{/privacy}', 'received_events_url': 'https://api.github.com/users/xhj123456/received_events', 'type': 'User', 'site_admin': False}, 'comments': 0, 'review_comments': 0, 'maintainer_can_modify': False, 'commits': 1, 'additions': 79, 'deletions': 5, 'changed_files': 5}}, 'public': True, 'created_at': '2019-07-15T06:54:18Z'}, {'id': '10010089519', 'type': 'PushEvent', 'actor': {'id': 13118031, 'login': 'tpyliujunjie', 'display_login': 'tpyliujunjie', 'gravatar_id': '', 'url': 'https://api.github.com/users/tpyliujunjie', 'avatar_url': 'https://avatars.githubusercontent.com/u/13118031?'}, 'repo': {'id': 195917738, 'name': 'tpyliujunjie/apiForOb', 'url': 'https://api.github.com/repos/tpyliujunjie/apiForOb'}, 'payload': {'push_id': 3816298992, 'size': 1, 'distinct_size': 1, 'ref': 'refs/heads/master', 'head': '3d44a67ba7b34a34c345880732b641cf899b872e', 'before': '9aace7972895f4a70725cd82c2ce25cdbb329020', 'commits': [{'sha': '3d44a67ba7b34a34c345880732b641cf899b872e', 'author': {'email': '595743439@qq.com', 'name': 'tpyliujunjie'}, 'message': 'Update api.md', 'distinct': True, 'url': 'https://api.github.com/repos/tpyliujunjie/apiForOb/commits/3d44a67ba7b34a34c345880732b641cf899b872e'}]}, 'public': True, 'created_at': '2019-07-15T06:54:17Z'}, {'id': '10010089515', 'type': 'PushEvent', 'actor': {'id': 33422677, 'login': 'tanya525625', 'display_login': 'tanya525625', 'gravatar_id': '', 'url': 'https://api.github.com/users/tanya525625', 'avatar_url': 'https://avatars.githubusercontent.com/u/33422677?'}, 'repo': {'id': 196025674, 'name': 'tanya525625/weather_statistics', 'url': 'https://api.github.com/repos/tanya525625/weather_statistics'}, 'payload': {'push_id': 3816298990, 'size': 1, 'distinct_size': 1, 'ref': 'refs/heads/master', 'head': 'bca042086379bdeecf3972703b474a0d39f6be23', 'before': '0fac1c5206ad5b823b65fe7ed860ee4b5d7f5008', 'commits': [{'sha': 'bca042086379bdeecf3972703b474a0d39f6be23', 'author': {'email': '33422677+tanya525625@users.noreply.github.com', 'name': 'Zubakhina Tatyana'}, 'message': 'Update README.md', 'distinct': True, 'url': 'https://api.github.com/repos/tanya525625/weather_statistics/commits/bca042086379bdeecf3972703b474a0d39f6be23'}]}, 'public': True, 'created_at': '2019-07-15T06:54:17Z'}, {'id': '10010089505', 'type': 'PushEvent', 'actor': {'id': 1139918, 'login': 'nstolpe', 'display_login': 'nstolpe', 'gravatar_id': '', 'url': 'https://api.github.com/users/nstolpe', 'avatar_url': 'https://avatars.githubusercontent.com/u/1139918?'}, 'repo': {'id': 195890469, 'name': 'nstolpe/react-pixi-fiber', 'url': 'https://api.github.com/repos/nstolpe/react-pixi-fiber'}, 'payload': {'push_id': 3816298985, 'size': 1, 'distinct_size': 1, 'ref': 'refs/heads/feature/hooks', 'head': '571d7222667bea365768d2c02b70960010f3b496', 'before': '520158f207856b363b1531828c125c9e1f4c8182', 'commits': [{'sha': '571d7222667bea365768d2c02b70960010f3b496', 'author': {'email': 'nils@gangshi', 'name': 'nils'}, 'message': 'fixed lockfile issues that were breaking tests', 'distinct': True, 'url': 'https://api.github.com/repos/nstolpe/react-pixi-fiber/commits/571d7222667bea365768d2c02b70960010f3b496'}]}, 'public': True, 'created_at': '2019-07-15T06:54:17Z'}, {'id': '10010089497', 'type': 'IssueCommentEvent', 'actor': {'id': 16837285, 'login': 'robodoo', 'display_login': 'robodoo', 'gravatar_id': '', 'url': 'https://api.github.com/users/robodoo', 'avatar_url': 'https://avatars.githubusercontent.com/u/16837285?'}, 'repo': {'id': 19745004, 'name': 'odoo/odoo', 'url': 'https://api.github.com/repos/odoo/odoo'}, 'payload': {'action': 'created', 'issue': {'url': 'https://api.github.com/repos/odoo/odoo/issues/34807', 'repository_url': 'https://api.github.com/repos/odoo/odoo', 'labels_url': 'https://api.github.com/repos/odoo/odoo/issues/34807/labels{/name}', 'comments_url': 'https://api.github.com/repos/odoo/odoo/issues/34807/comments', 'events_url': 'https://api.github.com/repos/odoo/odoo/issues/34807/events', 'html_url': 'https://github.com/odoo/odoo/pull/34807', 'id': 466941031, 'node_id': 'MDExOlB1bGxSZXF1ZXN0Mjk2NjkwMDQ4', 'number': 34807, 'title': '[FIX] doc: new link for learning center', 'user': {'login': 'rim-odoo', 'id': 7300760, 'node_id': 'MDQ6VXNlcjczMDA3NjA=', 'avatar_url': 'https://avatars0.githubusercontent.com/u/7300760?v=4', 'gravatar_id': '', 'url': 'https://api.github.com/users/rim-odoo', 'html_url': 'https://github.com/rim-odoo', 'followers_url': 'https://api.github.com/users/rim-odoo/followers', 'following_url': 'https://api.github.com/users/rim-odoo/following{/other_user}', 'gists_url': 'https://api.github.com/users/rim-odoo/gists{/gist_id}', 'starred_url': 'https://api.github.com/users/rim-odoo/starred{/owner}{/repo}', 'subscriptions_url': 'https://api.github.com/users/rim-odoo/subscriptions', 'organizations_url': 'https://api.github.com/users/rim-odoo/orgs', 'repos_url': 'https://api.github.com/users/rim-odoo/repos', 'events_url': 'https://api.github.com/users/rim-odoo/events{/privacy}', 'received_events_url': 'https://api.github.com/users/rim-odoo/received_events', 'type': 'User', 'site_admin': False}, 'labels': [{'id': 106173385, 'node_id': 'MDU6TGFiZWwxMDYxNzMzODU=', 'url': 'https://api.github.com/repos/odoo/odoo/labels/RD', 'name': 'RD', 'color': '5319e7', 'default': False}, {'id': 1045021611, 'node_id': 'MDU6TGFiZWwxMDQ1MDIxNjEx', 'url': 'https://api.github.com/repos/odoo/odoo/labels/error%20%F0%9F%99%85', 'name': 'error 🙅', 'color': 'ededed', 'default': False}, {'id': 1044215768, 'node_id': 'MDU6TGFiZWwxMDQ0MjE1NzY4', 'url': 'https://api.github.com/repos/odoo/odoo/labels/seen%20%F0%9F%99%82', 'name': 'seen 🙂', 'color': 'ededed', 'default': False}], 'state': 'open', 'locked': False, 'assignee': {'login': 'rim-odoo', 'id': 7300760, 'node_id': 'MDQ6VXNlcjczMDA3NjA=', 'avatar_url': 'https://avatars0.githubusercontent.com/u/7300760?v=4', 'gravatar_id': '', 'url': 'https://api.github.com/users/rim-odoo', 'html_url': 'https://github.com/rim-odoo', 'followers_url': 'https://api.github.com/users/rim-odoo/followers', 'following_url': 'https://api.github.com/users/rim-odoo/following{/other_user}', 'gists_url': 'https://api.github.com/users/rim-odoo/gists{/gist_id}', 'starred_url': 'https://api.github.com/users/rim-odoo/starred{/owner}{/repo}', 'subscriptions_url': 'https://api.github.com/users/rim-odoo/subscriptions', 'organizations_url': 'https://api.github.com/users/rim-odoo/orgs', 'repos_url': 'https://api.github.com/users/rim-odoo/repos', 'events_url': 'https://api.github.com/users/rim-odoo/events{/privacy}', 'received_events_url': 'https://api.github.com/users/rim-odoo/received_events', 'type': 'User', 'site_admin': False}, 'assignees': [{'login': 'rim-odoo', 'id': 7300760, 'node_id': 'MDQ6VXNlcjczMDA3NjA=', 'avatar_url': 'https://avatars0.githubusercontent.com/u/7300760?v=4', 'gravatar_id': '', 'url': 'https://api.github.com/users/rim-odoo', 'html_url': 'https://github.com/rim-odoo', 'followers_url': 'https://api.github.com/users/rim-odoo/followers', 'following_url': 'https://api.github.com/users/rim-odoo/following{/other_user}', 'gists_url': 'https://api.github.com/users/rim-odoo/gists{/gist_id}', 'starred_url': 'https://api.github.com/users/rim-odoo/starred{/owner}{/repo}', 'subscriptions_url': 'https://api.github.com/users/rim-odoo/subscriptions', 'organizations_url': 'https://api.github.com/users/rim-odoo/orgs', 'repos_url': 'https://api.github.com/users/rim-odoo/repos', 'events_url': 'https://api.github.com/users/rim-odoo/events{/privacy}', 'received_events_url': 'https://api.github.com/users/rim-odoo/received_events', 'type': 'User', 'site_admin': False}], 'milestone': None, 'comments': 3, 'created_at': '2019-07-11T14:50:44Z', 'updated_at': '2019-07-15T06:54:17Z', 'closed_at': None, 'author_association': 'CONTRIBUTOR', 'pull_request': {'url': 'https://api.github.com/repos/odoo/odoo/pulls/34807', 'html_url': 'https://github.com/odoo/odoo/pull/34807', 'diff_url': 'https://github.com/odoo/odoo/pull/34807.diff', 'patch_url': 'https://github.com/odoo/odoo/pull/34807.patch'}, 'body': ''}, 'comment': {'url': 'https://api.github.com/repos/odoo/odoo/issues/comments/511291872', 'html_url': 'https://github.com/odoo/odoo/pull/34807#issuecomment-511291872', 'issue_url': 'https://api.github.com/repos/odoo/odoo/issues/34807', 'id': 511291872, 'node_id': 'MDEyOklzc3VlQ29tbWVudDUxMTI5MTg3Mg==', 'user': {'login': 'robodoo', 'id': 16837285, 'node_id': 'MDQ6VXNlcjE2ODM3Mjg1', 'avatar_url': 'https://avatars0.githubusercontent.com/u/16837285?v=4', 'gravatar_id': '', 'url': 'https://api.github.com/users/robodoo', 'html_url': 'https://github.com/robodoo', 'followers_url': 'https://api.github.com/users/robodoo/followers', 'following_url': 'https://api.github.com/users/robodoo/following{/other_user}', 'gists_url': 'https://api.github.com/users/robodoo/gists{/gist_id}', 'starred_url': 'https://api.github.com/users/robodoo/starred{/owner}{/repo}', 'subscriptions_url': 'https://api.github.com/users/robodoo/subscriptions', 'organizations_url': 'https://api.github.com/users/robodoo/orgs', 'repos_url': 'https://api.github.com/users/robodoo/repos', 'events_url': 'https://api.github.com/users/robodoo/events{/privacy}', 'received_events_url': 'https://api.github.com/users/robodoo/received_events', 'type': 'User', 'site_admin': False}, 'created_at': '2019-07-15T06:54:17Z', 'updated_at': '2019-07-15T06:54:17Z', 'author_association': 'CONTRIBUTOR', 'body': 'Unable to stage PR ({\"message\":\"Merge conflict\",\"documentation_url\":\"https://developer.github.com/v3/repos/merging/#perform-a-merge\"})'}}, 'public': True, 'created_at': '2019-07-15T06:54:17Z', 'org': {'id': 6368483, 'login': 'odoo', 'gravatar_id': '', 'url': 'https://api.github.com/orgs/odoo', 'avatar_url': 'https://avatars.githubusercontent.com/u/6368483?'}}, {'id': '10010089500', 'type': 'WatchEvent', 'actor': {'id': 5929807, 'login': 'markwylde', 'display_login': 'markwylde', 'gravatar_id': '', 'url': 'https://api.github.com/users/markwylde', 'avatar_url': 'https://avatars.githubusercontent.com/u/5929807?'}, 'repo': {'id': 52242422, 'name': 'mjackson/unpkg', 'url': 'https://api.github.com/repos/mjackson/unpkg'}, 'payload': {'action': 'started'}, 'public': True, 'created_at': '2019-07-15T06:54:17Z'}, {'id': '10010089494', 'type': 'PushEvent', 'actor': {'id': 50438068, 'login': 'thisisatesting2', 'display_login': 'thisisatesting2', 'gravatar_id': '', 'url': 'https://api.github.com/users/thisisatesting2', 'avatar_url': 'https://avatars.githubusercontent.com/u/50438068?'}, 'repo': {'id': 185737986, 'name': 'thisisatesting2/gittest', 'url': 'https://api.github.com/repos/thisisatesting2/gittest'}, 'payload': {'push_id': 3816298982, 'size': 1, 'distinct_size': 1, 'ref': 'refs/heads/master', 'head': 'ddfe558be63c1902b836163e5c762af2367d3809', 'before': '1040a996e9282d27df59c9bd0d9c25f14ba40aee', 'commits': [{'sha': 'ddfe558be63c1902b836163e5c762af2367d3809', 'author': {'email': '50438068+thisisatesting2@users.noreply.github.com', 'name': 'thisisatesting2'}, 'message': 'try to send', 'distinct': True, 'url': 'https://api.github.com/repos/thisisatesting2/gittest/commits/ddfe558be63c1902b836163e5c762af2367d3809'}]}, 'public': True, 'created_at': '2019-07-15T06:54:17Z'}, {'id': '10010089489', 'type': 'IssuesEvent', 'actor': {'id': 43389269, 'login': 'nicewaytodoit', 'display_login': 'nicewaytodoit', 'gravatar_id': '', 'url': 'https://api.github.com/users/nicewaytodoit', 'avatar_url': 'https://avatars.githubusercontent.com/u/43389269?'}, 'repo': {'id': 11061773, 'name': 'eslint/eslint', 'url': 'https://api.github.com/repos/eslint/eslint'}, 'payload': {'action': 'opened', 'issue': {'url': 'https://api.github.com/repos/eslint/eslint/issues/11990', 'repository_url': 'https://api.github.com/repos/eslint/eslint', 'labels_url': 'https://api.github.com/repos/eslint/eslint/issues/11990/labels{/name}', 'comments_url': 'https://api.github.com/repos/eslint/eslint/issues/11990/comments', 'events_url': 'https://api.github.com/repos/eslint/eslint/issues/11990/events', 'html_url': 'https://github.com/eslint/eslint/issues/11990', 'id': 467967628, 'node_id': 'MDU6SXNzdWU0Njc5Njc2Mjg=', 'number': 11990, 'title': \"Failed to load plugin 'import' declared in '.eslintrc » eslint-config-airbnb > Cannot find module 'eslint/lib/util/source-code'\", 'user': {'login': 'nicewaytodoit', 'id': 43389269, 'node_id': 'MDQ6VXNlcjQzMzg5MjY5', 'avatar_url': 'https://avatars3.githubusercontent.com/u/43389269?v=4', 'gravatar_id': '', 'url': 'https://api.github.com/users/nicewaytodoit', 'html_url': 'https://github.com/nicewaytodoit', 'followers_url': 'https://api.github.com/users/nicewaytodoit/followers', 'following_url': 'https://api.github.com/users/nicewaytodoit/following{/other_user}', 'gists_url': 'https://api.github.com/users/nicewaytodoit/gists{/gist_id}', 'starred_url': 'https://api.github.com/users/nicewaytodoit/starred{/owner}{/repo}', 'subscriptions_url': 'https://api.github.com/users/nicewaytodoit/subscriptions', 'organizations_url': 'https://api.github.com/users/nicewaytodoit/orgs', 'repos_url': 'https://api.github.com/users/nicewaytodoit/repos', 'events_url': 'https://api.github.com/users/nicewaytodoit/events{/privacy}', 'received_events_url': 'https://api.github.com/users/nicewaytodoit/received_events', 'type': 'User', 'site_admin': False}, 'labels': [{'id': 45711350, 'node_id': 'MDU6TGFiZWw0NTcxMTM1MA==', 'url': 'https://api.github.com/repos/eslint/eslint/labels/bug', 'name': 'bug', 'color': 'fc2929', 'default': True}, {'id': 45711354, 'node_id': 'MDU6TGFiZWw0NTcxMTM1NA==', 'url': 'https://api.github.com/repos/eslint/eslint/labels/triage', 'name': 'triage', 'color': 'cc317c', 'default': False}], 'state': 'open', 'locked': False, 'assignee': None, 'assignees': [], 'milestone': None, 'comments': 0, 'created_at': '2019-07-15T06:54:17Z', 'updated_at': '2019-07-15T06:54:17Z', 'closed_at': None, 'author_association': 'NONE', 'body': 'I am getting following error when Eslint plugin is running:\\r\\n\\r\\n[Info  - 07:43:14] ESLint library loaded from: c:\\\\proj\\\\node_modules\\\\eslint\\\\lib\\\\api.js\\r\\n[Error - 07:43:25] Failed to load plugin \\'import\\' declared in \\'.eslintrc » eslint-config-airbnb » C:\\\\proj\\\\node_modules\\\\eslint-config-airbnb-base\\\\index.js » C:\\\\proj\\\\node_modules\\\\eslint-config-airbnb-base\\\\rules\\\\imports.js\\': Cannot find module \\'eslint/lib/util/source-code\\'\\r\\nHappened while validating C:\\\\proj\\\\src\\\\Game\\\\Game.jsx\\r\\n\\r\\n```\\r\\n\"devDependencies\": {\\r\\n    \"eslint\": \"^6.0.1\",\\r\\n    \"eslint-config-airbnb\": \"^17.1.1\",\\r\\n    \"eslint-plugin-import\": \"^2.18.0\",\\r\\n    \"eslint-plugin-jsx-a11y\": \"^6.2.3\",\\r\\n    \"eslint-plugin-jest\": \"^22.7.2\",\\r\\n    \"eslint-plugin-react\": \"^7.14.2\",\\r\\n    \"node-sass\": \"^4.12.0\"\\r\\n  },\\r\\n```\\r\\n\\r\\n```\\r\\n$ yarn -v 1.13.0\\r\\n$ npm -v 6.10.1\\r\\n$ node v10.15.0\\r\\n```\\r\\n\\r\\nProject is done in react, and all packages are updated globally to most recent version.\\r\\n\\r\\n'}}, 'public': True, 'created_at': '2019-07-15T06:54:17Z', 'org': {'id': 6019716, 'login': 'eslint', 'gravatar_id': '', 'url': 'https://api.github.com/orgs/eslint', 'avatar_url': 'https://avatars.githubusercontent.com/u/6019716?'}}]\n"
     ]
    }
   ],
   "source": [
    "import requests\n",
    "r = requests.get('https://api.github.com/events')\n",
    "print(r.json())"
   ]
  },
  {
   "cell_type": "markdown",
   "metadata": {},
   "source": [
    "如果JSON解码失败，r.json()就会抛出一个异常。例如，响应内容是401 (Unauthorized)，尝试访问 r.json() 将会抛出 ValueError: No JSON object could be decoded 异常。"
   ]
  },
  {
   "cell_type": "code",
   "execution_count": null,
   "metadata": {},
   "outputs": [],
   "source": []
  }
 ],
 "metadata": {
  "kernelspec": {
   "display_name": "Python 3",
   "language": "python",
   "name": "python3"
  },
  "language_info": {
   "codemirror_mode": {
    "name": "ipython",
    "version": 3
   },
   "file_extension": ".py",
   "mimetype": "text/x-python",
   "name": "python",
   "nbconvert_exporter": "python",
   "pygments_lexer": "ipython3",
   "version": "3.6.4"
  }
 },
 "nbformat": 4,
 "nbformat_minor": 2
}
